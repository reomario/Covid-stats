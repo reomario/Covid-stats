{
 "cells": [
  {
   "cell_type": "markdown",
   "id": "959fdd40-e9a6-4a6c-9e6a-db3102942c8d",
   "metadata": {},
   "source": [
    "### Loading Liberaries"
   ]
  },
  {
   "cell_type": "code",
   "execution_count": 1,
   "id": "8acc90f8-1712-478a-be84-c4afa7dcb3a4",
   "metadata": {},
   "outputs": [],
   "source": [
    "import pandas as pd\n",
    "import numpy as np\n",
    "import matplotlib.pyplot as plt\n",
    "%matplotlib inline\n",
    "import seaborn as sns\n",
    "import warnings\n",
    "warnings.filterwarnings('ignore')"
   ]
  },
  {
   "cell_type": "markdown",
   "id": "658a61f4-a73a-4ef9-bac6-feb50bf3b44d",
   "metadata": {},
   "source": [
    "### Loading and Exploring Dataset"
   ]
  },
  {
   "cell_type": "code",
   "execution_count": 2,
   "id": "74db5931-da55-4e56-adb0-880f37ce5633",
   "metadata": {},
   "outputs": [
    {
     "data": {
      "text/html": [
       "<div>\n",
       "<style scoped>\n",
       "    .dataframe tbody tr th:only-of-type {\n",
       "        vertical-align: middle;\n",
       "    }\n",
       "\n",
       "    .dataframe tbody tr th {\n",
       "        vertical-align: top;\n",
       "    }\n",
       "\n",
       "    .dataframe thead th {\n",
       "        text-align: right;\n",
       "    }\n",
       "</style>\n",
       "<table border=\"1\" class=\"dataframe\">\n",
       "  <thead>\n",
       "    <tr style=\"text-align: right;\">\n",
       "      <th></th>\n",
       "      <th>Material Type</th>\n",
       "      <th>Title</th>\n",
       "      <th>Series</th>\n",
       "      <th>Checkout Year</th>\n",
       "      <th>Checkout Month</th>\n",
       "      <th>Checkouts</th>\n",
       "      <th>Subjects</th>\n",
       "      <th>Publisher</th>\n",
       "      <th>Publication Year</th>\n",
       "    </tr>\n",
       "  </thead>\n",
       "  <tbody>\n",
       "    <tr>\n",
       "      <th>0</th>\n",
       "      <td>BOOK</td>\n",
       "      <td>#1 Suspect</td>\n",
       "      <td>NaN</td>\n",
       "      <td>2019</td>\n",
       "      <td>8</td>\n",
       "      <td>1</td>\n",
       "      <td>Private investigators California Fiction, Priv...</td>\n",
       "      <td>Little, Brown and Co.,</td>\n",
       "      <td>2012</td>\n",
       "    </tr>\n",
       "    <tr>\n",
       "      <th>1</th>\n",
       "      <td>BOOK</td>\n",
       "      <td>#1 Suspect</td>\n",
       "      <td>NaN</td>\n",
       "      <td>2019</td>\n",
       "      <td>6</td>\n",
       "      <td>1</td>\n",
       "      <td>Private investigators California Fiction, Priv...</td>\n",
       "      <td>Little, Brown and Co.,</td>\n",
       "      <td>2012</td>\n",
       "    </tr>\n",
       "    <tr>\n",
       "      <th>2</th>\n",
       "      <td>BOOK</td>\n",
       "      <td>#1 Suspect</td>\n",
       "      <td>NaN</td>\n",
       "      <td>2019</td>\n",
       "      <td>6</td>\n",
       "      <td>2</td>\n",
       "      <td>Private investigators California Fiction, Priv...</td>\n",
       "      <td>Little, Brown and Co.,</td>\n",
       "      <td>2012</td>\n",
       "    </tr>\n",
       "    <tr>\n",
       "      <th>3</th>\n",
       "      <td>BOOK</td>\n",
       "      <td>#1 Suspect</td>\n",
       "      <td>NaN</td>\n",
       "      <td>2019</td>\n",
       "      <td>5</td>\n",
       "      <td>1</td>\n",
       "      <td>Private investigators California Fiction, Priv...</td>\n",
       "      <td>Little, Brown and Co.,</td>\n",
       "      <td>2012</td>\n",
       "    </tr>\n",
       "    <tr>\n",
       "      <th>4</th>\n",
       "      <td>BOOK</td>\n",
       "      <td>#1 Suspect</td>\n",
       "      <td>NaN</td>\n",
       "      <td>2019</td>\n",
       "      <td>5</td>\n",
       "      <td>2</td>\n",
       "      <td>Private investigators California Fiction, Priv...</td>\n",
       "      <td>Little, Brown and Co.,</td>\n",
       "      <td>2012</td>\n",
       "    </tr>\n",
       "  </tbody>\n",
       "</table>\n",
       "</div>"
      ],
      "text/plain": [
       "  Material Type       Title Series  Checkout Year  Checkout Month  Checkouts  \\\n",
       "0          BOOK  #1 Suspect    NaN           2019               8          1   \n",
       "1          BOOK  #1 Suspect    NaN           2019               6          1   \n",
       "2          BOOK  #1 Suspect    NaN           2019               6          2   \n",
       "3          BOOK  #1 Suspect    NaN           2019               5          1   \n",
       "4          BOOK  #1 Suspect    NaN           2019               5          2   \n",
       "\n",
       "                                            Subjects               Publisher  \\\n",
       "0  Private investigators California Fiction, Priv...  Little, Brown and Co.,   \n",
       "1  Private investigators California Fiction, Priv...  Little, Brown and Co.,   \n",
       "2  Private investigators California Fiction, Priv...  Little, Brown and Co.,   \n",
       "3  Private investigators California Fiction, Priv...  Little, Brown and Co.,   \n",
       "4  Private investigators California Fiction, Priv...  Little, Brown and Co.,   \n",
       "\n",
       "  Publication Year  \n",
       "0             2012  \n",
       "1             2012  \n",
       "2             2012  \n",
       "3             2012  \n",
       "4             2012  "
      ]
     },
     "execution_count": 2,
     "metadata": {},
     "output_type": "execute_result"
    }
   ],
   "source": [
    "pd.set_option('display.max_rows', None)\n",
    "pd.set_option('display.max_columns', None)\n",
    "library = pd.read_csv('Seattle Library James Patterson Book Checkouts.csv')\n",
    "library.head()"
   ]
  },
  {
   "cell_type": "code",
   "execution_count": 3,
   "id": "35e8430b-4b31-48c7-9b0b-aeb166e301f9",
   "metadata": {},
   "outputs": [
    {
     "name": "stdout",
     "output_type": "stream",
     "text": [
      "<class 'pandas.core.frame.DataFrame'>\n",
      "RangeIndex: 17918 entries, 0 to 17917\n",
      "Data columns (total 9 columns):\n",
      " #   Column            Non-Null Count  Dtype \n",
      "---  ------            --------------  ----- \n",
      " 0   Material Type     17918 non-null  object\n",
      " 1   Title             17918 non-null  object\n",
      " 2   Series            12539 non-null  object\n",
      " 3   Checkout Year     17918 non-null  int64 \n",
      " 4   Checkout Month    17918 non-null  int64 \n",
      " 5   Checkouts         17918 non-null  int64 \n",
      " 6   Subjects          17918 non-null  object\n",
      " 7   Publisher         17918 non-null  object\n",
      " 8   Publication Year  17918 non-null  object\n",
      "dtypes: int64(3), object(6)\n",
      "memory usage: 1.2+ MB\n"
     ]
    }
   ],
   "source": [
    "library.info()"
   ]
  },
  {
   "cell_type": "code",
   "execution_count": 4,
   "id": "c157661f-4e74-497b-a987-6a7e6890a5f9",
   "metadata": {},
   "outputs": [
    {
     "data": {
      "text/plain": [
       "Index(['Material Type', 'Title', 'Series', 'Checkout Year', 'Checkout Month',\n",
       "       'Checkouts', 'Subjects', 'Publisher', 'Publication Year'],\n",
       "      dtype='object')"
      ]
     },
     "execution_count": 4,
     "metadata": {},
     "output_type": "execute_result"
    }
   ],
   "source": [
    "library.columns"
   ]
  },
  {
   "cell_type": "code",
   "execution_count": 5,
   "id": "d5105fb2-3189-4295-abd8-7faf018a3878",
   "metadata": {},
   "outputs": [
    {
     "data": {
      "text/plain": [
       "Material Type\n",
       "BOOK          17857\n",
       "LARGEPRINT       35\n",
       "REGPRINT         26\n",
       "Name: count, dtype: int64"
      ]
     },
     "execution_count": 5,
     "metadata": {},
     "output_type": "execute_result"
    }
   ],
   "source": [
    "library['Material Type'].value_counts()"
   ]
  },
  {
   "cell_type": "code",
   "execution_count": 6,
   "id": "8a94eb81-09df-4582-98f4-428b21509028",
   "metadata": {},
   "outputs": [
    {
     "data": {
      "text/plain": [
       "Series\n",
       "Alex Cross             2351\n",
       "Women's Murder Club    2278\n",
       "Maximum Ride           2048\n",
       "Middle School          1524\n",
       "Michael Bennett        1153\n",
       "Private                 983\n",
       "Daniel X                630\n",
       "Witch & Wizard          584\n",
       "NYPD Red                398\n",
       "Confessions             353\n",
       "Invisible               120\n",
       "Harriet Blue             88\n",
       "Crazy House              29\n",
       "Name: count, dtype: int64"
      ]
     },
     "execution_count": 6,
     "metadata": {},
     "output_type": "execute_result"
    }
   ],
   "source": [
    "library['Series'].value_counts()"
   ]
  },
  {
   "cell_type": "code",
   "execution_count": 7,
   "id": "922fb664-171a-4456-8318-a85105b9c87c",
   "metadata": {},
   "outputs": [
    {
     "data": {
      "text/plain": [
       "5379"
      ]
     },
     "execution_count": 7,
     "metadata": {},
     "output_type": "execute_result"
    }
   ],
   "source": [
    "library['Series'].isnull().sum()"
   ]
  },
  {
   "cell_type": "code",
   "execution_count": 8,
   "id": "e3c152b5-963b-4062-9133-fdf7ff150d30",
   "metadata": {},
   "outputs": [
    {
     "data": {
      "text/plain": [
       "'Private investigators California Fiction, Private security services California Fiction, Large type books, Mystery fiction'"
      ]
     },
     "execution_count": 8,
     "metadata": {},
     "output_type": "execute_result"
    }
   ],
   "source": [
    "library['Subjects'].iloc[0]"
   ]
  },
  {
   "cell_type": "code",
   "execution_count": 9,
   "id": "a7efca0d-7379-4736-9760-a513fc36a1f5",
   "metadata": {},
   "outputs": [
    {
     "data": {
      "text/plain": [
       "9"
      ]
     },
     "execution_count": 9,
     "metadata": {},
     "output_type": "execute_result"
    }
   ],
   "source": [
    "library.duplicated().sum()"
   ]
  },
  {
   "cell_type": "markdown",
   "id": "8bcfca49-7e08-47d1-9d78-785d4fcc32b2",
   "metadata": {},
   "source": [
    "### Data Summery"
   ]
  },
  {
   "cell_type": "markdown",
   "id": "33162dd3-a69f-478e-b978-7e7509ed786a",
   "metadata": {},
   "source": [
    "* The Data set contains `17918` records with `Nine` Columns.\n",
    "* There are 3 Material types of books, `Book` `Large Print` `Regular Print`.\n",
    "* There are 13 different book `Series` and `5379` `NaN values` that we will replace with `Undefined` instead.\n",
    "* The `Subjects` column has a lot of details, so we will use the first record as the main `Subject`.\n",
    "* The `Puplisher` records end with a comma, so we will delete it.\n",
    "* Some `puplishers` have various names, we will use only one name to describe them. \n",
    "* The `Publication Year` column is of inconsistent data type that needs to be converted to `int` type.\n",
    "* There are `9` `Duplicated` records in the data set that need to be droppped."
   ]
  },
  {
   "cell_type": "markdown",
   "id": "06885685-0ba3-4be7-b57d-07e35788766e",
   "metadata": {},
   "source": [
    "### Data Cleaning"
   ]
  },
  {
   "cell_type": "code",
   "execution_count": 10,
   "id": "e6532f47-efae-4ce9-8523-01b3e4152c17",
   "metadata": {},
   "outputs": [],
   "source": [
    "# Drop duplicates\n",
    "\n",
    "library.drop_duplicates(inplace=True)"
   ]
  },
  {
   "cell_type": "code",
   "execution_count": 11,
   "id": "348c8f64-76ba-488d-95e1-0229b2a6159b",
   "metadata": {},
   "outputs": [
    {
     "data": {
      "text/plain": [
       "0"
      ]
     },
     "execution_count": 11,
     "metadata": {},
     "output_type": "execute_result"
    }
   ],
   "source": [
    "# Filling \"NaN\" values\n",
    "\n",
    "library['Series'].fillna('Undefined', inplace=True)\n",
    "library['Series'].isnull().sum()"
   ]
  },
  {
   "cell_type": "code",
   "execution_count": 12,
   "id": "a25dc249-d07f-49dd-b4cb-699d42ec9a83",
   "metadata": {},
   "outputs": [
    {
     "data": {
      "text/plain": [
       "Publication Year\n",
       "2012              1860\n",
       "2011              1610\n",
       "2009              1487\n",
       "2014              1367\n",
       "2010              1189\n",
       "2013              1166\n",
       "2015              1102\n",
       "2016              1099\n",
       "2008              1019\n",
       "2007               972\n",
       "2017               912\n",
       "2006               385\n",
       "2005               369\n",
       "2018               362\n",
       "c2010.             295\n",
       "2001               273\n",
       "c2004.             225\n",
       "c2001.             193\n",
       "1999               191\n",
       "[2003]             118\n",
       "c2002.             107\n",
       "[2013]              97\n",
       "2003                90\n",
       "c1996.              87\n",
       "2000, c1995.        82\n",
       "c2009.              82\n",
       "c2011.              80\n",
       "2019                80\n",
       "2002                70\n",
       "2000                66\n",
       "2011, c2010.        60\n",
       "[2014]              58\n",
       "[2018]              56\n",
       "2009, c2005.        50\n",
       "c2000.              45\n",
       "2012, c2011.        44\n",
       "[2017]              44\n",
       "2009, c2007.        43\n",
       "2007, c2005.        41\n",
       "[2005], ©2004.      40\n",
       "2007, 2006.         40\n",
       "2008, c2007.        40\n",
       "C2016.              25\n",
       "c2012.              24\n",
       "[2010]              23\n",
       "2010, c2001.        21\n",
       "c2005.              21\n",
       "2008, c2006.        19\n",
       "[2004], c2003.      18\n",
       "2011, ©2010.        18\n",
       "©2003.              18\n",
       "2009, c2008.        17\n",
       "2005, ©2004.        17\n",
       "[2011]              13\n",
       "[2006]              13\n",
       "2011, ©2002.        11\n",
       "[2016]               9\n",
       "[1998]               9\n",
       "c1998.               9\n",
       "[2004]               9\n",
       "[2019]               7\n",
       "[2012]               4\n",
       "[2009]               4\n",
       "[2000]               2\n",
       "[2001]               2\n",
       "Name: count, dtype: int64"
      ]
     },
     "execution_count": 12,
     "metadata": {},
     "output_type": "execute_result"
    }
   ],
   "source": [
    "# Cleaning \"Publication Year\" Column and converting it into \"int\" data type\n",
    "\n",
    "library['Publication Year'].value_counts()"
   ]
  },
  {
   "cell_type": "code",
   "execution_count": 13,
   "id": "dbfaa1b5-5c28-42a4-9560-19622fdeefe3",
   "metadata": {},
   "outputs": [],
   "source": [
    "library['Publication Year'] = library['Publication Year'].apply(lambda x: x.split(',')[0])"
   ]
  },
  {
   "cell_type": "code",
   "execution_count": 14,
   "id": "4dea703a-f8db-42a4-91a1-0a564f4d6d92",
   "metadata": {},
   "outputs": [],
   "source": [
    "library['Publication Year'] = library['Publication Year'].str.replace('\\D','', regex=True)"
   ]
  },
  {
   "cell_type": "code",
   "execution_count": 15,
   "id": "0ca58a07-ce92-404b-95ae-d50343b8235b",
   "metadata": {},
   "outputs": [
    {
     "data": {
      "text/plain": [
       "Publication Year\n",
       "2012    1932\n",
       "2011    1792\n",
       "2009    1683\n",
       "2010    1528\n",
       "2014    1425\n",
       "2013    1263\n",
       "2016    1133\n",
       "2015    1102\n",
       "2008    1078\n",
       "2007    1053\n",
       "2017     956\n",
       "2001     468\n",
       "2005     447\n",
       "2018     418\n",
       "2006     398\n",
       "2004     252\n",
       "2003     226\n",
       "2000     195\n",
       "1999     191\n",
       "2002     177\n",
       "2019      87\n",
       "1996      87\n",
       "1998      18\n",
       "Name: count, dtype: int64"
      ]
     },
     "execution_count": 15,
     "metadata": {},
     "output_type": "execute_result"
    }
   ],
   "source": [
    "library['Publication Year'].value_counts()"
   ]
  },
  {
   "cell_type": "code",
   "execution_count": 16,
   "id": "0b950498-eda6-4077-997d-32ccbe05cc61",
   "metadata": {},
   "outputs": [],
   "source": [
    "library['Publication Year'] = library['Publication Year'].astype('int64')"
   ]
  },
  {
   "cell_type": "code",
   "execution_count": 17,
   "id": "cf1938ea-1d70-4fdc-9153-d63a64532e79",
   "metadata": {},
   "outputs": [
    {
     "data": {
      "text/plain": [
       "0"
      ]
     },
     "execution_count": 17,
     "metadata": {},
     "output_type": "execute_result"
    }
   ],
   "source": [
    "library['Publication Year'].isnull().sum()"
   ]
  },
  {
   "cell_type": "code",
   "execution_count": 18,
   "id": "db15020e-06c1-437b-8382-a7de08ddf39a",
   "metadata": {},
   "outputs": [],
   "source": [
    "# Cleaning \"Subjects\" column / selecting the first subject in the records as the main subject.\n",
    "\n",
    "library['Subjects'] = library['Subjects'].apply(lambda x: x.split(',')[0])"
   ]
  },
  {
   "cell_type": "code",
   "execution_count": 19,
   "id": "50b33267-4ad2-4d40-a503-ec0d6b89830a",
   "metadata": {},
   "outputs": [],
   "source": [
    "# Cleaning \"Publisher\" column / Removing the comma in the end.\n",
    "\n",
    "library['Publisher'] = library['Publisher'].str.replace(',','')"
   ]
  },
  {
   "cell_type": "code",
   "execution_count": 20,
   "id": "a7c81dae-2f7c-463f-85d1-f5e005f74783",
   "metadata": {},
   "outputs": [
    {
     "data": {
      "text/plain": [
       "Publisher\n",
       "Little Brown and Co.                                5033\n",
       "Little Brown and Company                            4793\n",
       "Little Brown                                        3230\n",
       "Yen Press                                           1046\n",
       "Grand Central Publishing                             635\n",
       "Grand Central Pub.                                   383\n",
       "Little Brown & Co.                                   307\n",
       "Vision                                               300\n",
       "BookShots Little Brown and Company                   292\n",
       "Little Brown & Company                               216\n",
       "G.K. Hall                                            168\n",
       "Little Brown and Company Large Print                 158\n",
       "Little Brown and Co. Large Print                     144\n",
       "BookShots/Little Brown and Company                   121\n",
       "Thorndike Press                                      106\n",
       "JIMMY Patterson Books Little Brown and Company        93\n",
       "IDW Pub.                                              67\n",
       "Little Brown Large Print                              64\n",
       "BookShots                                             60\n",
       "Idea & Design Works LLC                               60\n",
       "Random House Large Print                              59\n",
       "Little Brown and Co. ;                                58\n",
       "Wheeler Pub.                                          47\n",
       "Little Brown & Co                                     44\n",
       "Thorndike Press ; Chivers Press                       40\n",
       "Nhà xuất bản Văn hóa                                  35\n",
       "Book Shots/Little Brown & Company                     31\n",
       "Back Bay Books                                        31\n",
       "Thorndike Press a part of Gale a Cengage Company      30\n",
       "Warner Books                                          29\n",
       "Grand Central Publishing Large Print                  28\n",
       "Nhà xuất bản Văn học                                  24\n",
       "Jimmy Patterson Books/Little Brown and Company        22\n",
       "Editorial El Ateneo                                   21\n",
       "Grand Central Publishing/Hachette                     21\n",
       "Jimmy Patterson Books / Little Brown and Company      20\n",
       "Bookshots / Little Brown and Company                  20\n",
       "Ediciones B                                           19\n",
       "Bookshots Little Brown and Company                    18\n",
       "Grand Central Publishing/Hachette Book Group          16\n",
       "Jimmy Patterson Books Little Brown and Company         9\n",
       "Jimmy Patterson Little Brown and Company               7\n",
       "Editorial Océano                                       4\n",
       "Name: count, dtype: int64"
      ]
     },
     "execution_count": 20,
     "metadata": {},
     "output_type": "execute_result"
    }
   ],
   "source": [
    "library['Publisher'].value_counts()"
   ]
  },
  {
   "cell_type": "code",
   "execution_count": 21,
   "id": "54e2e646-be62-497b-8d48-d869a91c6a3d",
   "metadata": {},
   "outputs": [],
   "source": [
    "# Renaming \"Publisher\" values to reduce redundancy and duplications.\n",
    "\n",
    "library['Publisher'] = library['Publisher'].replace(['Little Brown and Co. ;','Little Brown & Company','Little Brown & Co','Little Brown','Little Brown and Company','Little Brown and Co.'],'Little Brown & Co.')\n",
    "library['Publisher'] = library['Publisher'].replace(['BookShots Little Brown and Company','BookShots/Little Brown and Company','Book Shots/Little Brown & Company','Bookshots / Little Brown and Company','Bookshots Little Brown and Company'],'Bookshots / Little Brown & Co.')\n",
    "library['Publisher'] = library['Publisher'].replace(['Little Brown and Company Large Print','Little Brown and Co. Large Print','Little Brown Large Print'],'Little Brown & Co. Large Print')\n",
    "library['Publisher'] = library['Publisher'].replace(['Jimmy Patterson Little Brown and Company','Jimmy Patterson Books Little Brown and Company','Jimmy Patterson Books / Little Brown and Company','Jimmy Patterson Books/Little Brown and Company','JIMMY Patterson Books Little Brown and Company'],'JIMMY Patterson Books / Little Brown & Co.')\n",
    "library['Publisher'] = library['Publisher'].replace(['Grand Central Publishing','Grand Central Pub.'],'Grand Central')\n",
    "library['Publisher'] = library['Publisher'].replace(['Grand Central Publishing/Hachette','Grand Central Publishing/Hachette Book Group'],'Grand Central / Hachette')\n",
    "library['Publisher'] = library['Publisher'].replace(['Grand Central Publishing Large Print'],'Grand Central Large Print')"
   ]
  },
  {
   "cell_type": "code",
   "execution_count": 22,
   "id": "920f256a-713e-4e30-96bc-547256c95566",
   "metadata": {},
   "outputs": [
    {
     "data": {
      "text/plain": [
       "Publisher\n",
       "Little Brown & Co.                                  13681\n",
       "Yen Press                                            1046\n",
       "Grand Central                                        1018\n",
       "Bookshots / Little Brown & Co.                        482\n",
       "Little Brown & Co. Large Print                        366\n",
       "Vision                                                300\n",
       "G.K. Hall                                             168\n",
       "JIMMY Patterson Books / Little Brown & Co.            151\n",
       "Thorndike Press                                       106\n",
       "IDW Pub.                                               67\n",
       "BookShots                                              60\n",
       "Idea & Design Works LLC                                60\n",
       "Random House Large Print                               59\n",
       "Wheeler Pub.                                           47\n",
       "Thorndike Press ; Chivers Press                        40\n",
       "Grand Central / Hachette                               37\n",
       "Nhà xuất bản Văn hóa                                   35\n",
       "Back Bay Books                                         31\n",
       "Thorndike Press a part of Gale a Cengage Company       30\n",
       "Warner Books                                           29\n",
       "Grand Central Large Print                              28\n",
       "Nhà xuất bản Văn học                                   24\n",
       "Editorial El Ateneo                                    21\n",
       "Ediciones B                                            19\n",
       "Editorial Océano                                        4\n",
       "Name: count, dtype: int64"
      ]
     },
     "execution_count": 22,
     "metadata": {},
     "output_type": "execute_result"
    }
   ],
   "source": [
    "library['Publisher'].value_counts()"
   ]
  },
  {
   "cell_type": "code",
   "execution_count": 23,
   "id": "92765007-70a6-498d-92e1-9df3b2fa521e",
   "metadata": {},
   "outputs": [
    {
     "data": {
      "text/html": [
       "<div>\n",
       "<style scoped>\n",
       "    .dataframe tbody tr th:only-of-type {\n",
       "        vertical-align: middle;\n",
       "    }\n",
       "\n",
       "    .dataframe tbody tr th {\n",
       "        vertical-align: top;\n",
       "    }\n",
       "\n",
       "    .dataframe thead th {\n",
       "        text-align: right;\n",
       "    }\n",
       "</style>\n",
       "<table border=\"1\" class=\"dataframe\">\n",
       "  <thead>\n",
       "    <tr style=\"text-align: right;\">\n",
       "      <th></th>\n",
       "      <th>Material Type</th>\n",
       "      <th>Title</th>\n",
       "      <th>Series</th>\n",
       "      <th>Checkout Year</th>\n",
       "      <th>Checkout Month</th>\n",
       "      <th>Checkouts</th>\n",
       "      <th>Subjects</th>\n",
       "      <th>Publisher</th>\n",
       "      <th>Publication Year</th>\n",
       "    </tr>\n",
       "  </thead>\n",
       "  <tbody>\n",
       "    <tr>\n",
       "      <th>0</th>\n",
       "      <td>BOOK</td>\n",
       "      <td>#1 Suspect</td>\n",
       "      <td>Undefined</td>\n",
       "      <td>2019</td>\n",
       "      <td>8</td>\n",
       "      <td>1</td>\n",
       "      <td>Private investigators California Fiction</td>\n",
       "      <td>Little Brown &amp; Co.</td>\n",
       "      <td>2012</td>\n",
       "    </tr>\n",
       "    <tr>\n",
       "      <th>1</th>\n",
       "      <td>BOOK</td>\n",
       "      <td>#1 Suspect</td>\n",
       "      <td>Undefined</td>\n",
       "      <td>2019</td>\n",
       "      <td>6</td>\n",
       "      <td>1</td>\n",
       "      <td>Private investigators California Fiction</td>\n",
       "      <td>Little Brown &amp; Co.</td>\n",
       "      <td>2012</td>\n",
       "    </tr>\n",
       "    <tr>\n",
       "      <th>2</th>\n",
       "      <td>BOOK</td>\n",
       "      <td>#1 Suspect</td>\n",
       "      <td>Undefined</td>\n",
       "      <td>2019</td>\n",
       "      <td>6</td>\n",
       "      <td>2</td>\n",
       "      <td>Private investigators California Fiction</td>\n",
       "      <td>Little Brown &amp; Co.</td>\n",
       "      <td>2012</td>\n",
       "    </tr>\n",
       "    <tr>\n",
       "      <th>3</th>\n",
       "      <td>BOOK</td>\n",
       "      <td>#1 Suspect</td>\n",
       "      <td>Undefined</td>\n",
       "      <td>2019</td>\n",
       "      <td>5</td>\n",
       "      <td>1</td>\n",
       "      <td>Private investigators California Fiction</td>\n",
       "      <td>Little Brown &amp; Co.</td>\n",
       "      <td>2012</td>\n",
       "    </tr>\n",
       "    <tr>\n",
       "      <th>4</th>\n",
       "      <td>BOOK</td>\n",
       "      <td>#1 Suspect</td>\n",
       "      <td>Undefined</td>\n",
       "      <td>2019</td>\n",
       "      <td>5</td>\n",
       "      <td>2</td>\n",
       "      <td>Private investigators California Fiction</td>\n",
       "      <td>Little Brown &amp; Co.</td>\n",
       "      <td>2012</td>\n",
       "    </tr>\n",
       "  </tbody>\n",
       "</table>\n",
       "</div>"
      ],
      "text/plain": [
       "  Material Type       Title     Series  Checkout Year  Checkout Month  \\\n",
       "0          BOOK  #1 Suspect  Undefined           2019               8   \n",
       "1          BOOK  #1 Suspect  Undefined           2019               6   \n",
       "2          BOOK  #1 Suspect  Undefined           2019               6   \n",
       "3          BOOK  #1 Suspect  Undefined           2019               5   \n",
       "4          BOOK  #1 Suspect  Undefined           2019               5   \n",
       "\n",
       "   Checkouts                                  Subjects           Publisher  \\\n",
       "0          1  Private investigators California Fiction  Little Brown & Co.   \n",
       "1          1  Private investigators California Fiction  Little Brown & Co.   \n",
       "2          2  Private investigators California Fiction  Little Brown & Co.   \n",
       "3          1  Private investigators California Fiction  Little Brown & Co.   \n",
       "4          2  Private investigators California Fiction  Little Brown & Co.   \n",
       "\n",
       "   Publication Year  \n",
       "0              2012  \n",
       "1              2012  \n",
       "2              2012  \n",
       "3              2012  \n",
       "4              2012  "
      ]
     },
     "execution_count": 23,
     "metadata": {},
     "output_type": "execute_result"
    }
   ],
   "source": [
    "library.head()"
   ]
  },
  {
   "cell_type": "code",
   "execution_count": 24,
   "id": "ccbde466-9e50-4c18-8d05-bec154a30a2a",
   "metadata": {},
   "outputs": [
    {
     "name": "stdout",
     "output_type": "stream",
     "text": [
      "<class 'pandas.core.frame.DataFrame'>\n",
      "Index: 17909 entries, 0 to 17917\n",
      "Data columns (total 9 columns):\n",
      " #   Column            Non-Null Count  Dtype \n",
      "---  ------            --------------  ----- \n",
      " 0   Material Type     17909 non-null  object\n",
      " 1   Title             17909 non-null  object\n",
      " 2   Series            17909 non-null  object\n",
      " 3   Checkout Year     17909 non-null  int64 \n",
      " 4   Checkout Month    17909 non-null  int64 \n",
      " 5   Checkouts         17909 non-null  int64 \n",
      " 6   Subjects          17909 non-null  object\n",
      " 7   Publisher         17909 non-null  object\n",
      " 8   Publication Year  17909 non-null  int64 \n",
      "dtypes: int64(4), object(5)\n",
      "memory usage: 1.4+ MB\n"
     ]
    }
   ],
   "source": [
    "library.info()"
   ]
  },
  {
   "cell_type": "markdown",
   "id": "4e60f2df-b526-4eb2-8547-e4366ee16515",
   "metadata": {},
   "source": [
    "* Our Data is now clean and ready for further analysis and investigation.\n",
    "* We will save our Data first as a CSV file."
   ]
  },
  {
   "cell_type": "code",
   "execution_count": 25,
   "id": "49fc5492-8202-4f7d-bec4-8f5e88e64acd",
   "metadata": {},
   "outputs": [],
   "source": [
    "library.to_csv('library.csv', index=False)"
   ]
  },
  {
   "cell_type": "markdown",
   "id": "ff7cfc09-cd60-4db3-9a45-4264e6dd6fe8",
   "metadata": {},
   "source": [
    "### Data Analysis"
   ]
  },
  {
   "cell_type": "markdown",
   "id": "efc2974a-10b9-4ecd-9f21-f08033aa4644",
   "metadata": {},
   "source": [
    "In this section we will try to answer the following Questions;"
   ]
  },
  {
   "cell_type": "markdown",
   "id": "9357f435-ef0c-4950-9b71-58c7366cbe56",
   "metadata": {},
   "source": [
    "* ##### Q1: Is there a seasonality month and if there is any, which month?\n",
    "* ##### Q2: What is the most checked out subject throughout the years?\n",
    "* ##### Q4: What are the top 10 books that have been checked out?\n",
    "* ##### Q3: What is the most checked out publication year?\n",
    "\n"
   ]
  },
  {
   "cell_type": "markdown",
   "id": "07693154-3f9b-4922-bf85-02c7d81c2bd3",
   "metadata": {},
   "source": [
    "*****"
   ]
  },
  {
   "cell_type": "markdown",
   "id": "4d055cb6-7398-4f3e-9395-69a798688897",
   "metadata": {},
   "source": [
    "#### 1. Is there a seasonality month and if there is any, which month?"
   ]
  },
  {
   "cell_type": "code",
   "execution_count": 26,
   "id": "33ccfaad-8d69-40f8-9b56-7fac27eeba05",
   "metadata": {},
   "outputs": [
    {
     "data": {
      "image/png": "[encoded data removed]",
      "text/plain": [
       "<Figure size 1000x500 with 1 Axes>"
      ]
     },
     "metadata": {},
     "output_type": "display_data"
    }
   ],
   "source": [
    "plt.figure(figsize=(10,5))\n",
    "sns.set_theme(style='whitegrid', font_scale=.8)\n",
    "sns.lineplot(x= 'Checkout Month', y='Checkouts', data=library, ci=None, marker='o', markersize=8).set(title='Checkouts vs Months',xlabel='Month')\n",
    "plt.show()"
   ]
  },
  {
   "cell_type": "markdown",
   "id": "a889d187-179f-4c40-a751-85fd267dcd3c",
   "metadata": {},
   "source": [
    "* It appears that books checkouts are high during the summer period in `June` `July` `August`.\n",
    "* It appears that `July` is a seasonal month for books checkouts."
   ]
  },
  {
   "cell_type": "markdown",
   "id": "aec2d416-33f3-47c8-89e2-914f083f5572",
   "metadata": {},
   "source": [
    "*****"
   ]
  },
  {
   "cell_type": "markdown",
   "id": "2fe9f742-16f2-42ca-976f-f7e3362dfe40",
   "metadata": {},
   "source": [
    "#### 2. What is the most checked out subject throughout the years?"
   ]
  },
  {
   "cell_type": "code",
   "execution_count": 35,
   "id": "27495e36-ee67-4383-acbc-050885a88d4d",
   "metadata": {},
   "outputs": [],
   "source": [
    "popular_subjects = library.groupby(['Subjects','Checkout Year'])['Checkouts'].sum().nlargest(10)"
   ]
  },
  {
   "cell_type": "code",
   "execution_count": 36,
   "id": "3d1157f3-65b1-4b86-9d99-9df2b78d9ab9",
   "metadata": {},
   "outputs": [],
   "source": [
    "popular_subjects = popular_subjects.reset_index()"
   ]
  },
  {
   "cell_type": "code",
   "execution_count": 38,
   "id": "392121a7-8622-4332-a92f-8db8de47066b",
   "metadata": {
    "scrolled": true
   },
   "outputs": [
    {
     "data": {
      "text/html": [
       "<div>\n",
       "<style scoped>\n",
       "    .dataframe tbody tr th:only-of-type {\n",
       "        vertical-align: middle;\n",
       "    }\n",
       "\n",
       "    .dataframe tbody tr th {\n",
       "        vertical-align: top;\n",
       "    }\n",
       "\n",
       "    .dataframe thead th {\n",
       "        text-align: right;\n",
       "    }\n",
       "</style>\n",
       "<table border=\"1\" class=\"dataframe\">\n",
       "  <thead>\n",
       "    <tr style=\"text-align: right;\">\n",
       "      <th></th>\n",
       "      <th>Subjects</th>\n",
       "      <th>Checkout Year</th>\n",
       "      <th>Checkouts</th>\n",
       "    </tr>\n",
       "  </thead>\n",
       "  <tbody>\n",
       "    <tr>\n",
       "      <th>0</th>\n",
       "      <td>Womens Murder Club Imaginary organization Fiction</td>\n",
       "      <td>2008</td>\n",
       "      <td>1608</td>\n",
       "    </tr>\n",
       "    <tr>\n",
       "      <th>1</th>\n",
       "      <td>Womens Murder Club Imaginary organization Fiction</td>\n",
       "      <td>2009</td>\n",
       "      <td>1603</td>\n",
       "    </tr>\n",
       "    <tr>\n",
       "      <th>2</th>\n",
       "      <td>Cross Alex Fictitious character Fiction</td>\n",
       "      <td>2013</td>\n",
       "      <td>1527</td>\n",
       "    </tr>\n",
       "    <tr>\n",
       "      <th>3</th>\n",
       "      <td>Cross Alex Fictitious character Fiction</td>\n",
       "      <td>2010</td>\n",
       "      <td>1386</td>\n",
       "    </tr>\n",
       "    <tr>\n",
       "      <th>4</th>\n",
       "      <td>Womens Murder Club Imaginary organization Fiction</td>\n",
       "      <td>2012</td>\n",
       "      <td>1328</td>\n",
       "    </tr>\n",
       "    <tr>\n",
       "      <th>5</th>\n",
       "      <td>Womens Murder Club Imaginary organization Fiction</td>\n",
       "      <td>2011</td>\n",
       "      <td>1216</td>\n",
       "    </tr>\n",
       "    <tr>\n",
       "      <th>6</th>\n",
       "      <td>Cross Alex Fictitious character Fiction</td>\n",
       "      <td>2009</td>\n",
       "      <td>1196</td>\n",
       "    </tr>\n",
       "    <tr>\n",
       "      <th>7</th>\n",
       "      <td>Cross Alex Fictitious character Fiction</td>\n",
       "      <td>2012</td>\n",
       "      <td>1170</td>\n",
       "    </tr>\n",
       "    <tr>\n",
       "      <th>8</th>\n",
       "      <td>Cross Alex Fictitious character Fiction</td>\n",
       "      <td>2015</td>\n",
       "      <td>1119</td>\n",
       "    </tr>\n",
       "    <tr>\n",
       "      <th>9</th>\n",
       "      <td>Cross Alex Fictitious character Fiction</td>\n",
       "      <td>2014</td>\n",
       "      <td>1116</td>\n",
       "    </tr>\n",
       "  </tbody>\n",
       "</table>\n",
       "</div>"
      ],
      "text/plain": [
       "                                            Subjects  Checkout Year  Checkouts\n",
       "0  Womens Murder Club Imaginary organization Fiction           2008       1608\n",
       "1  Womens Murder Club Imaginary organization Fiction           2009       1603\n",
       "2            Cross Alex Fictitious character Fiction           2013       1527\n",
       "3            Cross Alex Fictitious character Fiction           2010       1386\n",
       "4  Womens Murder Club Imaginary organization Fiction           2012       1328\n",
       "5  Womens Murder Club Imaginary organization Fiction           2011       1216\n",
       "6            Cross Alex Fictitious character Fiction           2009       1196\n",
       "7            Cross Alex Fictitious character Fiction           2012       1170\n",
       "8            Cross Alex Fictitious character Fiction           2015       1119\n",
       "9            Cross Alex Fictitious character Fiction           2014       1116"
      ]
     },
     "execution_count": 38,
     "metadata": {},
     "output_type": "execute_result"
    }
   ],
   "source": [
    "popular_subjects"
   ]
  },
  {
   "cell_type": "code",
   "execution_count": 44,
   "id": "1ab52be4-9d74-46e8-aaf4-5c3d75b644e9",
   "metadata": {
    "scrolled": true
   },
   "outputs": [
    {
     "data": {
      "image/png": "[encoded data removed]",
      "text/plain": [
       "<Figure size 1000x500 with 1 Axes>"
      ]
     },
     "metadata": {},
     "output_type": "display_data"
    }
   ],
   "source": [
    "plt.figure(figsize=(10,5))\n",
    "sns.set_theme(style='white', font_scale=.8)\n",
    "sns.barplot(x='Subjects' ,y= 'Checkouts', data=popular_subjects, hue='Checkout Year').set(title='Popular Subjects throughout the years',xlabel='Subject')\n",
    "plt.legend(loc='center')\n",
    "plt.show()"
   ]
  },
  {
   "cell_type": "markdown",
   "id": "83366fac-3e2e-414a-be88-36187031f467",
   "metadata": {},
   "source": [
    "* **`Womens Murder Club`** & **`Cross Alex`** fiction have been the most checked out subjects throughout the years."
   ]
  },
  {
   "cell_type": "markdown",
   "id": "cb69b012-d7ef-46b2-9228-5ae85468ca2d",
   "metadata": {},
   "source": [
    "*****"
   ]
  },
  {
   "cell_type": "markdown",
   "id": "3aaf161a-c558-49b4-afdb-c8d32489358a",
   "metadata": {},
   "source": [
    "#### 3. What are the top 10 books that have been checked out?"
   ]
  },
  {
   "cell_type": "code",
   "execution_count": 55,
   "id": "68e224af-7805-464b-8fce-8cff79b7cf7a",
   "metadata": {},
   "outputs": [],
   "source": [
    "top_books = library.groupby(['Title','Subjects'])['Checkouts'].sum().nlargest(20)"
   ]
  },
  {
   "cell_type": "code",
   "execution_count": 56,
   "id": "7c39928f-df0e-46c7-93a2-42c4cb4d286f",
   "metadata": {},
   "outputs": [],
   "source": [
    "top_books = top_books.reset_index()"
   ]
  },
  {
   "cell_type": "code",
   "execution_count": 57,
   "id": "e0793658-9d46-4af7-bb4d-5e2e4a434956",
   "metadata": {},
   "outputs": [
    {
     "data": {
      "text/html": [
       "<div>\n",
       "<style scoped>\n",
       "    .dataframe tbody tr th:only-of-type {\n",
       "        vertical-align: middle;\n",
       "    }\n",
       "\n",
       "    .dataframe tbody tr th {\n",
       "        vertical-align: top;\n",
       "    }\n",
       "\n",
       "    .dataframe thead th {\n",
       "        text-align: right;\n",
       "    }\n",
       "</style>\n",
       "<table border=\"1\" class=\"dataframe\">\n",
       "  <thead>\n",
       "    <tr style=\"text-align: right;\">\n",
       "      <th></th>\n",
       "      <th>Title</th>\n",
       "      <th>Subjects</th>\n",
       "      <th>Checkouts</th>\n",
       "    </tr>\n",
       "  </thead>\n",
       "  <tbody>\n",
       "    <tr>\n",
       "      <th>0</th>\n",
       "      <td>The 6th Target</td>\n",
       "      <td>Womens Murder Club Imaginary organization Fiction</td>\n",
       "      <td>2003</td>\n",
       "    </tr>\n",
       "    <tr>\n",
       "      <th>1</th>\n",
       "      <td>NYPD Red 3</td>\n",
       "      <td>Police New York State New York Fiction</td>\n",
       "      <td>1896</td>\n",
       "    </tr>\n",
       "    <tr>\n",
       "      <th>2</th>\n",
       "      <td>7th Heaven</td>\n",
       "      <td>Womens Murder Club Imaginary organization Fiction</td>\n",
       "      <td>1845</td>\n",
       "    </tr>\n",
       "    <tr>\n",
       "      <th>3</th>\n",
       "      <td>The 8th Confession</td>\n",
       "      <td>Womens Murder Club Imaginary organization Fiction</td>\n",
       "      <td>1757</td>\n",
       "    </tr>\n",
       "    <tr>\n",
       "      <th>4</th>\n",
       "      <td>Honeymoon</td>\n",
       "      <td>Investment bankers Crimes against Fiction</td>\n",
       "      <td>1658</td>\n",
       "    </tr>\n",
       "    <tr>\n",
       "      <th>5</th>\n",
       "      <td>4th Of July</td>\n",
       "      <td>Womens Murder Club Imaginary organization Fiction</td>\n",
       "      <td>1642</td>\n",
       "    </tr>\n",
       "    <tr>\n",
       "      <th>6</th>\n",
       "      <td>Run For Your Life</td>\n",
       "      <td>Bennett Michael Fictitious character Fiction</td>\n",
       "      <td>1615</td>\n",
       "    </tr>\n",
       "    <tr>\n",
       "      <th>7</th>\n",
       "      <td>You've Been Warned</td>\n",
       "      <td>Nightmares Fiction</td>\n",
       "      <td>1586</td>\n",
       "    </tr>\n",
       "    <tr>\n",
       "      <th>8</th>\n",
       "      <td>Cross Country</td>\n",
       "      <td>Cross Alex Fictitious character Fiction</td>\n",
       "      <td>1475</td>\n",
       "    </tr>\n",
       "    <tr>\n",
       "      <th>9</th>\n",
       "      <td>Sundays At Tiffany's</td>\n",
       "      <td>Imaginary companions Fiction</td>\n",
       "      <td>1468</td>\n",
       "    </tr>\n",
       "    <tr>\n",
       "      <th>10</th>\n",
       "      <td>Private L.A.</td>\n",
       "      <td>Private investigators California Fiction</td>\n",
       "      <td>1383</td>\n",
       "    </tr>\n",
       "    <tr>\n",
       "      <th>11</th>\n",
       "      <td>The Postcard Killers</td>\n",
       "      <td>Police Fiction</td>\n",
       "      <td>1340</td>\n",
       "    </tr>\n",
       "    <tr>\n",
       "      <th>12</th>\n",
       "      <td>Worst Case</td>\n",
       "      <td>Bennett Michael Fictitious character Fiction</td>\n",
       "      <td>1336</td>\n",
       "    </tr>\n",
       "    <tr>\n",
       "      <th>13</th>\n",
       "      <td>10th Anniversary</td>\n",
       "      <td>Womens Murder Club Imaginary organization Fiction</td>\n",
       "      <td>1330</td>\n",
       "    </tr>\n",
       "    <tr>\n",
       "      <th>14</th>\n",
       "      <td>Sail</td>\n",
       "      <td>Sailing Fiction</td>\n",
       "      <td>1313</td>\n",
       "    </tr>\n",
       "    <tr>\n",
       "      <th>15</th>\n",
       "      <td>Swimsuit</td>\n",
       "      <td>Models Persons Crimes against Fiction</td>\n",
       "      <td>1276</td>\n",
       "    </tr>\n",
       "    <tr>\n",
       "      <th>16</th>\n",
       "      <td>Alex Cross's Trial</td>\n",
       "      <td>Cross Alex Fictitious character Fiction</td>\n",
       "      <td>1212</td>\n",
       "    </tr>\n",
       "    <tr>\n",
       "      <th>17</th>\n",
       "      <td>Max</td>\n",
       "      <td>Marine animals Juvenile fiction</td>\n",
       "      <td>1171</td>\n",
       "    </tr>\n",
       "    <tr>\n",
       "      <th>18</th>\n",
       "      <td>Get Me Out Of Here!</td>\n",
       "      <td>Middle schools Juvenile fiction</td>\n",
       "      <td>1160</td>\n",
       "    </tr>\n",
       "    <tr>\n",
       "      <th>19</th>\n",
       "      <td>The Worst Years Of My Life</td>\n",
       "      <td>Behavior Fiction</td>\n",
       "      <td>1156</td>\n",
       "    </tr>\n",
       "  </tbody>\n",
       "</table>\n",
       "</div>"
      ],
      "text/plain": [
       "                         Title  \\\n",
       "0               The 6th Target   \n",
       "1                   NYPD Red 3   \n",
       "2                   7th Heaven   \n",
       "3           The 8th Confession   \n",
       "4                    Honeymoon   \n",
       "5                  4th Of July   \n",
       "6            Run For Your Life   \n",
       "7           You've Been Warned   \n",
       "8                Cross Country   \n",
       "9         Sundays At Tiffany's   \n",
       "10                Private L.A.   \n",
       "11        The Postcard Killers   \n",
       "12                  Worst Case   \n",
       "13            10th Anniversary   \n",
       "14                        Sail   \n",
       "15                    Swimsuit   \n",
       "16          Alex Cross's Trial   \n",
       "17                         Max   \n",
       "18         Get Me Out Of Here!   \n",
       "19  The Worst Years Of My Life   \n",
       "\n",
       "                                             Subjects  Checkouts  \n",
       "0   Womens Murder Club Imaginary organization Fiction       2003  \n",
       "1              Police New York State New York Fiction       1896  \n",
       "2   Womens Murder Club Imaginary organization Fiction       1845  \n",
       "3   Womens Murder Club Imaginary organization Fiction       1757  \n",
       "4           Investment bankers Crimes against Fiction       1658  \n",
       "5   Womens Murder Club Imaginary organization Fiction       1642  \n",
       "6        Bennett Michael Fictitious character Fiction       1615  \n",
       "7                                  Nightmares Fiction       1586  \n",
       "8             Cross Alex Fictitious character Fiction       1475  \n",
       "9                        Imaginary companions Fiction       1468  \n",
       "10           Private investigators California Fiction       1383  \n",
       "11                                     Police Fiction       1340  \n",
       "12       Bennett Michael Fictitious character Fiction       1336  \n",
       "13  Womens Murder Club Imaginary organization Fiction       1330  \n",
       "14                                    Sailing Fiction       1313  \n",
       "15              Models Persons Crimes against Fiction       1276  \n",
       "16            Cross Alex Fictitious character Fiction       1212  \n",
       "17                    Marine animals Juvenile fiction       1171  \n",
       "18                    Middle schools Juvenile fiction       1160  \n",
       "19                                   Behavior Fiction       1156  "
      ]
     },
     "execution_count": 57,
     "metadata": {},
     "output_type": "execute_result"
    }
   ],
   "source": [
    "top_books"
   ]
  },
  {
   "cell_type": "code",
   "execution_count": 60,
   "id": "701b3a65-f7b2-491c-858d-1ef28559fcd8",
   "metadata": {},
   "outputs": [
    {
     "data": {
      "text/plain": [
       "[Text(0.5, 1.0, 'Top 20 Checked out Books'), Text(0.5, 0, 'Title')]"
      ]
     },
     "execution_count": 60,
     "metadata": {},
     "output_type": "execute_result"
    },
    {
     "data": {
      "image/png": "[encoded data removed]",
      "text/plain": [
       "<Figure size 1000x500 with 1 Axes>"
      ]
     },
     "metadata": {},
     "output_type": "display_data"
    }
   ],
   "source": [
    "plt.figure(figsize=(10,5))\n",
    "plt.xticks(rotation=90)\n",
    "sns.set_theme(style='white', font_scale=.8)\n",
    "sns.barplot(x='Title' ,y='Checkouts', data=top_books).set(title='Top 20 Checked out Books',xlabel='Title')"
   ]
  },
  {
   "cell_type": "markdown",
   "id": "a7935124-89c2-43de-a72b-6704d8408fda",
   "metadata": {},
   "source": [
    "****"
   ]
  },
  {
   "cell_type": "markdown",
   "id": "cc5c2908-8c8f-4778-b15c-105330312fd3",
   "metadata": {},
   "source": [
    "#### 4. What are the most popular publication year?"
   ]
  },
  {
   "cell_type": "code",
   "execution_count": 66,
   "id": "4f12da1c-6410-4c27-bc8b-4117f93a6913",
   "metadata": {},
   "outputs": [],
   "source": [
    "popular_pub = library.groupby('Publication Year')['Checkouts'].sum().nlargest(20)"
   ]
  },
  {
   "cell_type": "code",
   "execution_count": 67,
   "id": "c6a19685-8dd6-4ccd-8291-b78bfb97afd6",
   "metadata": {},
   "outputs": [],
   "source": [
    "popular_pub = popular_pub.reset_index()"
   ]
  },
  {
   "cell_type": "code",
   "execution_count": 68,
   "id": "1c78e8cf-cabf-4ea1-8d89-103a139e9879",
   "metadata": {},
   "outputs": [
    {
     "data": {
      "text/html": [
       "<div>\n",
       "<style scoped>\n",
       "    .dataframe tbody tr th:only-of-type {\n",
       "        vertical-align: middle;\n",
       "    }\n",
       "\n",
       "    .dataframe tbody tr th {\n",
       "        vertical-align: top;\n",
       "    }\n",
       "\n",
       "    .dataframe thead th {\n",
       "        text-align: right;\n",
       "    }\n",
       "</style>\n",
       "<table border=\"1\" class=\"dataframe\">\n",
       "  <thead>\n",
       "    <tr style=\"text-align: right;\">\n",
       "      <th></th>\n",
       "      <th>Publication Year</th>\n",
       "      <th>Checkouts</th>\n",
       "    </tr>\n",
       "  </thead>\n",
       "  <tbody>\n",
       "    <tr>\n",
       "      <th>0</th>\n",
       "      <td>2012</td>\n",
       "      <td>12929</td>\n",
       "    </tr>\n",
       "    <tr>\n",
       "      <th>1</th>\n",
       "      <td>2009</td>\n",
       "      <td>11096</td>\n",
       "    </tr>\n",
       "    <tr>\n",
       "      <th>2</th>\n",
       "      <td>2011</td>\n",
       "      <td>10776</td>\n",
       "    </tr>\n",
       "    <tr>\n",
       "      <th>3</th>\n",
       "      <td>2010</td>\n",
       "      <td>10295</td>\n",
       "    </tr>\n",
       "    <tr>\n",
       "      <th>4</th>\n",
       "      <td>2014</td>\n",
       "      <td>9630</td>\n",
       "    </tr>\n",
       "    <tr>\n",
       "      <th>5</th>\n",
       "      <td>2013</td>\n",
       "      <td>8753</td>\n",
       "    </tr>\n",
       "    <tr>\n",
       "      <th>6</th>\n",
       "      <td>2008</td>\n",
       "      <td>8567</td>\n",
       "    </tr>\n",
       "    <tr>\n",
       "      <th>7</th>\n",
       "      <td>2015</td>\n",
       "      <td>7158</td>\n",
       "    </tr>\n",
       "    <tr>\n",
       "      <th>8</th>\n",
       "      <td>2016</td>\n",
       "      <td>6520</td>\n",
       "    </tr>\n",
       "    <tr>\n",
       "      <th>9</th>\n",
       "      <td>2017</td>\n",
       "      <td>6493</td>\n",
       "    </tr>\n",
       "    <tr>\n",
       "      <th>10</th>\n",
       "      <td>2007</td>\n",
       "      <td>6246</td>\n",
       "    </tr>\n",
       "    <tr>\n",
       "      <th>11</th>\n",
       "      <td>2018</td>\n",
       "      <td>4080</td>\n",
       "    </tr>\n",
       "    <tr>\n",
       "      <th>12</th>\n",
       "      <td>2005</td>\n",
       "      <td>3588</td>\n",
       "    </tr>\n",
       "    <tr>\n",
       "      <th>13</th>\n",
       "      <td>2004</td>\n",
       "      <td>1756</td>\n",
       "    </tr>\n",
       "    <tr>\n",
       "      <th>14</th>\n",
       "      <td>2019</td>\n",
       "      <td>1602</td>\n",
       "    </tr>\n",
       "    <tr>\n",
       "      <th>15</th>\n",
       "      <td>2006</td>\n",
       "      <td>1422</td>\n",
       "    </tr>\n",
       "    <tr>\n",
       "      <th>16</th>\n",
       "      <td>2001</td>\n",
       "      <td>1121</td>\n",
       "    </tr>\n",
       "    <tr>\n",
       "      <th>17</th>\n",
       "      <td>2002</td>\n",
       "      <td>637</td>\n",
       "    </tr>\n",
       "    <tr>\n",
       "      <th>18</th>\n",
       "      <td>2003</td>\n",
       "      <td>455</td>\n",
       "    </tr>\n",
       "    <tr>\n",
       "      <th>19</th>\n",
       "      <td>1999</td>\n",
       "      <td>414</td>\n",
       "    </tr>\n",
       "  </tbody>\n",
       "</table>\n",
       "</div>"
      ],
      "text/plain": [
       "    Publication Year  Checkouts\n",
       "0               2012      12929\n",
       "1               2009      11096\n",
       "2               2011      10776\n",
       "3               2010      10295\n",
       "4               2014       9630\n",
       "5               2013       8753\n",
       "6               2008       8567\n",
       "7               2015       7158\n",
       "8               2016       6520\n",
       "9               2017       6493\n",
       "10              2007       6246\n",
       "11              2018       4080\n",
       "12              2005       3588\n",
       "13              2004       1756\n",
       "14              2019       1602\n",
       "15              2006       1422\n",
       "16              2001       1121\n",
       "17              2002        637\n",
       "18              2003        455\n",
       "19              1999        414"
      ]
     },
     "execution_count": 68,
     "metadata": {},
     "output_type": "execute_result"
    }
   ],
   "source": [
    "popular_pub"
   ]
  },
  {
   "cell_type": "code",
   "execution_count": 70,
   "id": "4d89320c-abd8-41a2-af75-ef6578d79a1f",
   "metadata": {},
   "outputs": [
    {
     "data": {
      "text/plain": [
       "[Text(0.5, 1.0, 'Last 20 Years of Publication'), Text(0.5, 0, 'Year')]"
      ]
     },
     "execution_count": 70,
     "metadata": {},
     "output_type": "execute_result"
    },
    {
     "data": {
      "image/png": "[encoded data removed]",
      "text/plain": [
       "<Figure size 1000x500 with 1 Axes>"
      ]
     },
     "metadata": {},
     "output_type": "display_data"
    }
   ],
   "source": [
    "plt.figure(figsize=(10,5))\n",
    "plt.xticks(rotation=90)\n",
    "sns.set_theme(style='white', font_scale=.8)\n",
    "sns.barplot(x='Publication Year' ,y='Checkouts', data=popular_pub).set(title='Last 20 Years of Publication',xlabel='Year')"
   ]
  },
  {
   "cell_type": "markdown",
   "id": "e69dd35d-6dc8-4589-9513-f29e15183515",
   "metadata": {},
   "source": [
    "* The publications From 2009 to 2014 seem to be the most checked out.\n",
    "* It seems that 2012 was a great year for publications since the most checked out books were from this year's production."
   ]
  },
  {
   "cell_type": "markdown",
   "id": "d5022f7a-0b7c-4705-b5c9-0fb86a3ddc13",
   "metadata": {},
   "source": [
    "****"
   ]
  }
 ],
 "metadata": {
  "kernelspec": {
   "display_name": "Python 3 (ipykernel)",
   "language": "python",
   "name": "python3"
  },
  "language_info": {
   "codemirror_mode": {
    "name": "ipython",
    "version": 3
   },
   "file_extension": ".py",
   "mimetype": "text/x-python",
   "name": "python",
   "nbconvert_exporter": "python",
   "pygments_lexer": "ipython3",
   "version": "3.11.7"
  }
 },
 "nbformat": 4,
 "nbformat_minor": 5
}
