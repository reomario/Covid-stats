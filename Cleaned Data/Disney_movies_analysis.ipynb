{
 "cells": [
  {
   "cell_type": "markdown",
   "id": "81ce4c74-4f9b-4a21-93e7-6d1bf62b75ca",
   "metadata": {},
   "source": [
    "## **Load Liberaries**"
   ]
  },
  {
   "cell_type": "code",
   "execution_count": 1,
   "id": "eb7aff4b-3909-4d87-90a7-b6e29baca904",
   "metadata": {},
   "outputs": [],
   "source": [
    "import pandas as pd\n",
    "import numpy as np\n",
    "import matplotlib.pyplot as plt\n",
    "import seaborn as sns\n",
    "%matplotlib inline\n",
    "import warnings\n",
    "warnings.filterwarnings('ignore')"
   ]
  },
  {
   "cell_type": "markdown",
   "id": "88e2812b-23b0-4a35-921a-0e7205886ef8",
   "metadata": {},
   "source": [
    "## **Loading Datasets** "
   ]
  },
  {
   "cell_type": "markdown",
   "id": "5bfdf1a6-7ab4-4e44-81aa-ac1554803d7b",
   "metadata": {},
   "source": [
    "### **1- Total Gross**"
   ]
  },
  {
   "cell_type": "markdown",
   "id": "ee9eb514-3b8b-4b64-9bcd-0643e7f1dcdf",
   "metadata": {},
   "source": [
    "* ####  **Loading and Exploring the Dataset**"
   ]
  },
  {
   "cell_type": "code",
   "execution_count": 2,
   "id": "6b92753e-70de-44a4-97dc-9eee2f8a2ba1",
   "metadata": {},
   "outputs": [
    {
     "data": {
      "text/html": [
       "<div>\n",
       "<style scoped>\n",
       "    .dataframe tbody tr th:only-of-type {\n",
       "        vertical-align: middle;\n",
       "    }\n",
       "\n",
       "    .dataframe tbody tr th {\n",
       "        vertical-align: top;\n",
       "    }\n",
       "\n",
       "    .dataframe thead th {\n",
       "        text-align: right;\n",
       "    }\n",
       "</style>\n",
       "<table border=\"1\" class=\"dataframe\">\n",
       "  <thead>\n",
       "    <tr style=\"text-align: right;\">\n",
       "      <th></th>\n",
       "      <th>movie_title</th>\n",
       "      <th>release_date</th>\n",
       "      <th>genre</th>\n",
       "      <th>MPAA_rating</th>\n",
       "      <th>total_gross</th>\n",
       "      <th>inflation_adjusted_gross</th>\n",
       "    </tr>\n",
       "  </thead>\n",
       "  <tbody>\n",
       "    <tr>\n",
       "      <th>0</th>\n",
       "      <td>Snow White and the Seven Dwarfs</td>\n",
       "      <td>Dec 21, 1937</td>\n",
       "      <td>Musical</td>\n",
       "      <td>G</td>\n",
       "      <td>$184,925,485</td>\n",
       "      <td>$5,228,953,251</td>\n",
       "    </tr>\n",
       "    <tr>\n",
       "      <th>1</th>\n",
       "      <td>Pinocchio</td>\n",
       "      <td>Feb 9, 1940</td>\n",
       "      <td>Adventure</td>\n",
       "      <td>G</td>\n",
       "      <td>$84,300,000</td>\n",
       "      <td>$2,188,229,052</td>\n",
       "    </tr>\n",
       "    <tr>\n",
       "      <th>2</th>\n",
       "      <td>Fantasia</td>\n",
       "      <td>Nov 13, 1940</td>\n",
       "      <td>Musical</td>\n",
       "      <td>G</td>\n",
       "      <td>$83,320,000</td>\n",
       "      <td>$2,187,090,808</td>\n",
       "    </tr>\n",
       "    <tr>\n",
       "      <th>3</th>\n",
       "      <td>Song of the South</td>\n",
       "      <td>Nov 12, 1946</td>\n",
       "      <td>Adventure</td>\n",
       "      <td>G</td>\n",
       "      <td>$65,000,000</td>\n",
       "      <td>$1,078,510,579</td>\n",
       "    </tr>\n",
       "    <tr>\n",
       "      <th>4</th>\n",
       "      <td>Cinderella</td>\n",
       "      <td>Feb 15, 1950</td>\n",
       "      <td>Drama</td>\n",
       "      <td>G</td>\n",
       "      <td>$85,000,000</td>\n",
       "      <td>$920,608,730</td>\n",
       "    </tr>\n",
       "  </tbody>\n",
       "</table>\n",
       "</div>"
      ],
      "text/plain": [
       "                       movie_title  release_date      genre MPAA_rating  \\\n",
       "0  Snow White and the Seven Dwarfs  Dec 21, 1937    Musical           G   \n",
       "1                        Pinocchio   Feb 9, 1940  Adventure           G   \n",
       "2                         Fantasia  Nov 13, 1940    Musical           G   \n",
       "3                Song of the South  Nov 12, 1946  Adventure           G   \n",
       "4                       Cinderella  Feb 15, 1950      Drama           G   \n",
       "\n",
       "    total_gross inflation_adjusted_gross  \n",
       "0  $184,925,485           $5,228,953,251  \n",
       "1   $84,300,000           $2,188,229,052  \n",
       "2   $83,320,000           $2,187,090,808  \n",
       "3   $65,000,000           $1,078,510,579  \n",
       "4   $85,000,000             $920,608,730  "
      ]
     },
     "execution_count": 2,
     "metadata": {},
     "output_type": "execute_result"
    }
   ],
   "source": [
    "total_gross = pd.read_csv('disney_movies_total_gross.csv')\n",
    "total_gross.head()"
   ]
  },
  {
   "cell_type": "code",
   "execution_count": 3,
   "id": "c9d2c991-a63c-4386-a651-10ca6f9f8b83",
   "metadata": {},
   "outputs": [
    {
     "name": "stdout",
     "output_type": "stream",
     "text": [
      "<class 'pandas.core.frame.DataFrame'>\n",
      "RangeIndex: 579 entries, 0 to 578\n",
      "Data columns (total 6 columns):\n",
      " #   Column                    Non-Null Count  Dtype \n",
      "---  ------                    --------------  ----- \n",
      " 0   movie_title               579 non-null    object\n",
      " 1   release_date              579 non-null    object\n",
      " 2   genre                     562 non-null    object\n",
      " 3   MPAA_rating               523 non-null    object\n",
      " 4   total_gross               579 non-null    object\n",
      " 5   inflation_adjusted_gross  579 non-null    object\n",
      "dtypes: object(6)\n",
      "memory usage: 27.3+ KB\n"
     ]
    }
   ],
   "source": [
    "total_gross.info()"
   ]
  },
  {
   "cell_type": "code",
   "execution_count": 4,
   "id": "f3a3fd42-8114-4a80-827d-4bd7ce18f343",
   "metadata": {},
   "outputs": [
    {
     "data": {
      "text/plain": [
       "movie_title                  0\n",
       "release_date                 0\n",
       "genre                       17\n",
       "MPAA_rating                 56\n",
       "total_gross                  0\n",
       "inflation_adjusted_gross     0\n",
       "dtype: int64"
      ]
     },
     "execution_count": 4,
     "metadata": {},
     "output_type": "execute_result"
    }
   ],
   "source": [
    "total_gross.isna().sum()"
   ]
  },
  {
   "cell_type": "code",
   "execution_count": 5,
   "id": "29c870b5-887d-4a62-af6c-886b807835a3",
   "metadata": {},
   "outputs": [
    {
     "data": {
      "text/plain": [
       "0"
      ]
     },
     "execution_count": 5,
     "metadata": {},
     "output_type": "execute_result"
    }
   ],
   "source": [
    "total_gross.duplicated().sum()"
   ]
  },
  {
   "cell_type": "markdown",
   "id": "7f733aa8-0454-4a21-a781-0d28dc3de7ae",
   "metadata": {},
   "source": [
    "#### Data Cleaning\n",
    "* We will convert `release_date` data type into datetime.\n",
    "* We will convert both `total_gross` and `inflation_adjusted_gross` into numeric data type.\n",
    "* We will replace `NaN` values in `genre` and `MPAA_rating` columns with `Generic` and `Not Rated` respectively."
   ]
  },
  {
   "cell_type": "code",
   "execution_count": 6,
   "id": "bd7bc0b7-16cf-4c58-b061-ea28c936342b",
   "metadata": {},
   "outputs": [],
   "source": [
    "# convereting release_date\n",
    "\n",
    "total_gross['release_date'] = pd.to_datetime(total_gross['release_date'])"
   ]
  },
  {
   "cell_type": "code",
   "execution_count": 7,
   "id": "0d057ff9-ffc3-4c96-991d-e5158bcb09d7",
   "metadata": {},
   "outputs": [],
   "source": [
    "# converting object columns into numeric columns\n",
    "total_gross[['total_gross','inflation_adjusted_gross']] = total_gross[['total_gross','inflation_adjusted_gross']].apply(lambda x: x.str.replace('$','')).apply(lambda x: x.str.replace(',','')).astype(np.int64)"
   ]
  },
  {
   "cell_type": "code",
   "execution_count": 8,
   "id": "c2a81db1-96db-46d9-8560-c179ceb01ffc",
   "metadata": {},
   "outputs": [],
   "source": [
    "# Dealing with \"NaN\" values\n",
    "total_gross['genre'].fillna('Generic', inplace=True)"
   ]
  },
  {
   "cell_type": "code",
   "execution_count": 9,
   "id": "6a31e278-dca4-4f34-9d41-35fd7042904f",
   "metadata": {},
   "outputs": [],
   "source": [
    "total_gross['MPAA_rating'].fillna('Not Rated', inplace=True)"
   ]
  },
  {
   "cell_type": "code",
   "execution_count": 10,
   "id": "112c183b-38f6-42c4-a080-af581646becc",
   "metadata": {},
   "outputs": [
    {
     "data": {
      "text/html": [
       "<div>\n",
       "<style scoped>\n",
       "    .dataframe tbody tr th:only-of-type {\n",
       "        vertical-align: middle;\n",
       "    }\n",
       "\n",
       "    .dataframe tbody tr th {\n",
       "        vertical-align: top;\n",
       "    }\n",
       "\n",
       "    .dataframe thead th {\n",
       "        text-align: right;\n",
       "    }\n",
       "</style>\n",
       "<table border=\"1\" class=\"dataframe\">\n",
       "  <thead>\n",
       "    <tr style=\"text-align: right;\">\n",
       "      <th></th>\n",
       "      <th>movie_title</th>\n",
       "      <th>release_date</th>\n",
       "      <th>genre</th>\n",
       "      <th>MPAA_rating</th>\n",
       "      <th>total_gross</th>\n",
       "      <th>inflation_adjusted_gross</th>\n",
       "    </tr>\n",
       "  </thead>\n",
       "  <tbody>\n",
       "    <tr>\n",
       "      <th>0</th>\n",
       "      <td>Snow White and the Seven Dwarfs</td>\n",
       "      <td>1937-12-21</td>\n",
       "      <td>Musical</td>\n",
       "      <td>G</td>\n",
       "      <td>184925485</td>\n",
       "      <td>5228953251</td>\n",
       "    </tr>\n",
       "    <tr>\n",
       "      <th>1</th>\n",
       "      <td>Pinocchio</td>\n",
       "      <td>1940-02-09</td>\n",
       "      <td>Adventure</td>\n",
       "      <td>G</td>\n",
       "      <td>84300000</td>\n",
       "      <td>2188229052</td>\n",
       "    </tr>\n",
       "    <tr>\n",
       "      <th>2</th>\n",
       "      <td>Fantasia</td>\n",
       "      <td>1940-11-13</td>\n",
       "      <td>Musical</td>\n",
       "      <td>G</td>\n",
       "      <td>83320000</td>\n",
       "      <td>2187090808</td>\n",
       "    </tr>\n",
       "    <tr>\n",
       "      <th>3</th>\n",
       "      <td>Song of the South</td>\n",
       "      <td>1946-11-12</td>\n",
       "      <td>Adventure</td>\n",
       "      <td>G</td>\n",
       "      <td>65000000</td>\n",
       "      <td>1078510579</td>\n",
       "    </tr>\n",
       "    <tr>\n",
       "      <th>4</th>\n",
       "      <td>Cinderella</td>\n",
       "      <td>1950-02-15</td>\n",
       "      <td>Drama</td>\n",
       "      <td>G</td>\n",
       "      <td>85000000</td>\n",
       "      <td>920608730</td>\n",
       "    </tr>\n",
       "  </tbody>\n",
       "</table>\n",
       "</div>"
      ],
      "text/plain": [
       "                       movie_title release_date      genre MPAA_rating  \\\n",
       "0  Snow White and the Seven Dwarfs   1937-12-21    Musical           G   \n",
       "1                        Pinocchio   1940-02-09  Adventure           G   \n",
       "2                         Fantasia   1940-11-13    Musical           G   \n",
       "3                Song of the South   1946-11-12  Adventure           G   \n",
       "4                       Cinderella   1950-02-15      Drama           G   \n",
       "\n",
       "   total_gross  inflation_adjusted_gross  \n",
       "0    184925485                5228953251  \n",
       "1     84300000                2188229052  \n",
       "2     83320000                2187090808  \n",
       "3     65000000                1078510579  \n",
       "4     85000000                 920608730  "
      ]
     },
     "execution_count": 10,
     "metadata": {},
     "output_type": "execute_result"
    }
   ],
   "source": [
    "total_gross.head()"
   ]
  },
  {
   "cell_type": "code",
   "execution_count": 11,
   "id": "b81dcc1c-7ffd-4096-acc2-a37523069f5f",
   "metadata": {},
   "outputs": [
    {
     "name": "stdout",
     "output_type": "stream",
     "text": [
      "<class 'pandas.core.frame.DataFrame'>\n",
      "RangeIndex: 579 entries, 0 to 578\n",
      "Data columns (total 6 columns):\n",
      " #   Column                    Non-Null Count  Dtype         \n",
      "---  ------                    --------------  -----         \n",
      " 0   movie_title               579 non-null    object        \n",
      " 1   release_date              579 non-null    datetime64[ns]\n",
      " 2   genre                     579 non-null    object        \n",
      " 3   MPAA_rating               579 non-null    object        \n",
      " 4   total_gross               579 non-null    int64         \n",
      " 5   inflation_adjusted_gross  579 non-null    int64         \n",
      "dtypes: datetime64[ns](1), int64(2), object(3)\n",
      "memory usage: 27.3+ KB\n"
     ]
    }
   ],
   "source": [
    "total_gross.info()"
   ]
  },
  {
   "cell_type": "markdown",
   "id": "0f84297d-3c35-480f-9006-624e77d24a9e",
   "metadata": {},
   "source": [
    "* Saving the dataset as csv file."
   ]
  },
  {
   "cell_type": "code",
   "execution_count": 12,
   "id": "c0ae8366-b0b1-4e2c-97bd-810f8e8150d5",
   "metadata": {},
   "outputs": [],
   "source": [
    "total_gross.to_csv('total_gross.csv')"
   ]
  },
  {
   "cell_type": "markdown",
   "id": "69402155-e2cb-4b61-a72e-011ae0c5c4f8",
   "metadata": {},
   "source": [
    "***"
   ]
  },
  {
   "cell_type": "markdown",
   "id": "ebf2abd2-55a0-42dd-92c4-5766d7f55d9d",
   "metadata": {},
   "source": [
    "### **2- Revenue** "
   ]
  },
  {
   "cell_type": "markdown",
   "id": "0afffd83-b7ed-441d-a095-f0cee3fc3198",
   "metadata": {},
   "source": [
    "* ####  **Loading and Exploring the Dataset**"
   ]
  },
  {
   "cell_type": "code",
   "execution_count": 13,
   "id": "44b0d78b-6f28-458b-926f-3e205329c46e",
   "metadata": {},
   "outputs": [
    {
     "data": {
      "text/html": [
       "<div>\n",
       "<style scoped>\n",
       "    .dataframe tbody tr th:only-of-type {\n",
       "        vertical-align: middle;\n",
       "    }\n",
       "\n",
       "    .dataframe tbody tr th {\n",
       "        vertical-align: top;\n",
       "    }\n",
       "\n",
       "    .dataframe thead th {\n",
       "        text-align: right;\n",
       "    }\n",
       "</style>\n",
       "<table border=\"1\" class=\"dataframe\">\n",
       "  <thead>\n",
       "    <tr style=\"text-align: right;\">\n",
       "      <th></th>\n",
       "      <th>Year</th>\n",
       "      <th>Studio Entertainment[NI 1]</th>\n",
       "      <th>Disney Consumer Products[NI 2]</th>\n",
       "      <th>Disney Interactive[NI 3][Rev 1]</th>\n",
       "      <th>Walt Disney Parks and Resorts</th>\n",
       "      <th>Disney Media Networks</th>\n",
       "      <th>Total</th>\n",
       "    </tr>\n",
       "  </thead>\n",
       "  <tbody>\n",
       "    <tr>\n",
       "      <th>0</th>\n",
       "      <td>1991</td>\n",
       "      <td>2593.0</td>\n",
       "      <td>724.0</td>\n",
       "      <td>NaN</td>\n",
       "      <td>2794.0</td>\n",
       "      <td>NaN</td>\n",
       "      <td>6111</td>\n",
       "    </tr>\n",
       "    <tr>\n",
       "      <th>1</th>\n",
       "      <td>1992</td>\n",
       "      <td>3115.0</td>\n",
       "      <td>1081.0</td>\n",
       "      <td>NaN</td>\n",
       "      <td>3306.0</td>\n",
       "      <td>NaN</td>\n",
       "      <td>7502</td>\n",
       "    </tr>\n",
       "    <tr>\n",
       "      <th>2</th>\n",
       "      <td>1993</td>\n",
       "      <td>3673.4</td>\n",
       "      <td>1415.1</td>\n",
       "      <td>NaN</td>\n",
       "      <td>3440.7</td>\n",
       "      <td>NaN</td>\n",
       "      <td>8529</td>\n",
       "    </tr>\n",
       "    <tr>\n",
       "      <th>3</th>\n",
       "      <td>1994</td>\n",
       "      <td>4793.0</td>\n",
       "      <td>1798.2</td>\n",
       "      <td>NaN</td>\n",
       "      <td>3463.6</td>\n",
       "      <td>359</td>\n",
       "      <td>10414</td>\n",
       "    </tr>\n",
       "    <tr>\n",
       "      <th>4</th>\n",
       "      <td>1995</td>\n",
       "      <td>6001.5</td>\n",
       "      <td>2150.0</td>\n",
       "      <td>NaN</td>\n",
       "      <td>3959.8</td>\n",
       "      <td>414</td>\n",
       "      <td>12525</td>\n",
       "    </tr>\n",
       "  </tbody>\n",
       "</table>\n",
       "</div>"
      ],
      "text/plain": [
       "   Year  Studio Entertainment[NI 1]  Disney Consumer Products[NI 2]  \\\n",
       "0  1991                      2593.0                           724.0   \n",
       "1  1992                      3115.0                          1081.0   \n",
       "2  1993                      3673.4                          1415.1   \n",
       "3  1994                      4793.0                          1798.2   \n",
       "4  1995                      6001.5                          2150.0   \n",
       "\n",
       "   Disney Interactive[NI 3][Rev 1]  Walt Disney Parks and Resorts  \\\n",
       "0                              NaN                         2794.0   \n",
       "1                              NaN                         3306.0   \n",
       "2                              NaN                         3440.7   \n",
       "3                              NaN                         3463.6   \n",
       "4                              NaN                         3959.8   \n",
       "\n",
       "  Disney Media Networks  Total  \n",
       "0                   NaN   6111  \n",
       "1                   NaN   7502  \n",
       "2                   NaN   8529  \n",
       "3                   359  10414  \n",
       "4                   414  12525  "
      ]
     },
     "execution_count": 13,
     "metadata": {},
     "output_type": "execute_result"
    }
   ],
   "source": [
    "revenue = pd.read_csv('disney_revenue_1991-2016.csv')\n",
    "revenue.head()"
   ]
  },
  {
   "cell_type": "code",
   "execution_count": 14,
   "id": "79ca23be-deeb-46bc-b56e-540ae1a24f5c",
   "metadata": {},
   "outputs": [
    {
     "name": "stdout",
     "output_type": "stream",
     "text": [
      "<class 'pandas.core.frame.DataFrame'>\n",
      "RangeIndex: 26 entries, 0 to 25\n",
      "Data columns (total 7 columns):\n",
      " #   Column                           Non-Null Count  Dtype  \n",
      "---  ------                           --------------  -----  \n",
      " 0   Year                             26 non-null     int64  \n",
      " 1   Studio Entertainment[NI 1]       25 non-null     float64\n",
      " 2   Disney Consumer Products[NI 2]   24 non-null     float64\n",
      " 3   Disney Interactive[NI 3][Rev 1]  12 non-null     float64\n",
      " 4   Walt Disney Parks and Resorts    26 non-null     float64\n",
      " 5   Disney Media Networks            23 non-null     object \n",
      " 6   Total                            26 non-null     int64  \n",
      "dtypes: float64(4), int64(2), object(1)\n",
      "memory usage: 1.6+ KB\n"
     ]
    }
   ],
   "source": [
    "revenue.info()"
   ]
  },
  {
   "cell_type": "code",
   "execution_count": 15,
   "id": "12a54a0c-2408-4abe-a04f-dbefd83b9a05",
   "metadata": {},
   "outputs": [
    {
     "data": {
      "text/plain": [
       "0"
      ]
     },
     "execution_count": 15,
     "metadata": {},
     "output_type": "execute_result"
    }
   ],
   "source": [
    "revenue.duplicated().sum()"
   ]
  },
  {
   "cell_type": "markdown",
   "id": "cd404db0-9c43-4a7a-8407-e717132434de",
   "metadata": {},
   "source": [
    "#### Data Cleaning\n",
    "* We will replace `NaN` values with 0 .\n",
    "* We will convert `Disney Media Network` object column to float as the rest of columns."
   ]
  },
  {
   "cell_type": "code",
   "execution_count": 16,
   "id": "39cea145-b506-44c4-9fd4-0029bf3854dc",
   "metadata": {},
   "outputs": [],
   "source": [
    "revenue.fillna(0, inplace=True)"
   ]
  },
  {
   "cell_type": "code",
   "execution_count": 17,
   "id": "7080b82b-dadc-4682-a975-b50e308f86ad",
   "metadata": {},
   "outputs": [],
   "source": [
    "def clean_col(x):\n",
    "    if isinstance(x,str):\n",
    "        return x.replace(',','')\n",
    "    return x\n"
   ]
  },
  {
   "cell_type": "code",
   "execution_count": 18,
   "id": "62ca22d4-f006-455e-bde4-d829c4f999d5",
   "metadata": {},
   "outputs": [
    {
     "data": {
      "text/html": [
       "<div>\n",
       "<style scoped>\n",
       "    .dataframe tbody tr th:only-of-type {\n",
       "        vertical-align: middle;\n",
       "    }\n",
       "\n",
       "    .dataframe tbody tr th {\n",
       "        vertical-align: top;\n",
       "    }\n",
       "\n",
       "    .dataframe thead th {\n",
       "        text-align: right;\n",
       "    }\n",
       "</style>\n",
       "<table border=\"1\" class=\"dataframe\">\n",
       "  <thead>\n",
       "    <tr style=\"text-align: right;\">\n",
       "      <th></th>\n",
       "      <th>Year</th>\n",
       "      <th>Studio Entertainment[NI 1]</th>\n",
       "      <th>Disney Consumer Products[NI 2]</th>\n",
       "      <th>Disney Interactive[NI 3][Rev 1]</th>\n",
       "      <th>Walt Disney Parks and Resorts</th>\n",
       "      <th>Disney Media Networks</th>\n",
       "      <th>Total</th>\n",
       "    </tr>\n",
       "  </thead>\n",
       "  <tbody>\n",
       "    <tr>\n",
       "      <th>0</th>\n",
       "      <td>1991</td>\n",
       "      <td>2593.0</td>\n",
       "      <td>724.0</td>\n",
       "      <td>0.0</td>\n",
       "      <td>2794.0</td>\n",
       "      <td>0.0</td>\n",
       "      <td>6111</td>\n",
       "    </tr>\n",
       "    <tr>\n",
       "      <th>1</th>\n",
       "      <td>1992</td>\n",
       "      <td>3115.0</td>\n",
       "      <td>1081.0</td>\n",
       "      <td>0.0</td>\n",
       "      <td>3306.0</td>\n",
       "      <td>0.0</td>\n",
       "      <td>7502</td>\n",
       "    </tr>\n",
       "    <tr>\n",
       "      <th>2</th>\n",
       "      <td>1993</td>\n",
       "      <td>3673.4</td>\n",
       "      <td>1415.1</td>\n",
       "      <td>0.0</td>\n",
       "      <td>3440.7</td>\n",
       "      <td>0.0</td>\n",
       "      <td>8529</td>\n",
       "    </tr>\n",
       "    <tr>\n",
       "      <th>3</th>\n",
       "      <td>1994</td>\n",
       "      <td>4793.0</td>\n",
       "      <td>1798.2</td>\n",
       "      <td>0.0</td>\n",
       "      <td>3463.6</td>\n",
       "      <td>359.0</td>\n",
       "      <td>10414</td>\n",
       "    </tr>\n",
       "    <tr>\n",
       "      <th>4</th>\n",
       "      <td>1995</td>\n",
       "      <td>6001.5</td>\n",
       "      <td>2150.0</td>\n",
       "      <td>0.0</td>\n",
       "      <td>3959.8</td>\n",
       "      <td>414.0</td>\n",
       "      <td>12525</td>\n",
       "    </tr>\n",
       "  </tbody>\n",
       "</table>\n",
       "</div>"
      ],
      "text/plain": [
       "   Year  Studio Entertainment[NI 1]  Disney Consumer Products[NI 2]  \\\n",
       "0  1991                      2593.0                           724.0   \n",
       "1  1992                      3115.0                          1081.0   \n",
       "2  1993                      3673.4                          1415.1   \n",
       "3  1994                      4793.0                          1798.2   \n",
       "4  1995                      6001.5                          2150.0   \n",
       "\n",
       "   Disney Interactive[NI 3][Rev 1]  Walt Disney Parks and Resorts  \\\n",
       "0                              0.0                         2794.0   \n",
       "1                              0.0                         3306.0   \n",
       "2                              0.0                         3440.7   \n",
       "3                              0.0                         3463.6   \n",
       "4                              0.0                         3959.8   \n",
       "\n",
       "   Disney Media Networks  Total  \n",
       "0                    0.0   6111  \n",
       "1                    0.0   7502  \n",
       "2                    0.0   8529  \n",
       "3                  359.0  10414  \n",
       "4                  414.0  12525  "
      ]
     },
     "execution_count": 18,
     "metadata": {},
     "output_type": "execute_result"
    }
   ],
   "source": [
    "revenue['Disney Media Networks']=revenue['Disney Media Networks'].apply(clean_col).astype(np.float64)\n",
    "revenue.head()"
   ]
  },
  {
   "cell_type": "code",
   "execution_count": 19,
   "id": "0bc8d07c-f086-4019-ae39-7de6846ce88b",
   "metadata": {},
   "outputs": [
    {
     "name": "stdout",
     "output_type": "stream",
     "text": [
      "<class 'pandas.core.frame.DataFrame'>\n",
      "RangeIndex: 26 entries, 0 to 25\n",
      "Data columns (total 7 columns):\n",
      " #   Column                           Non-Null Count  Dtype  \n",
      "---  ------                           --------------  -----  \n",
      " 0   Year                             26 non-null     int64  \n",
      " 1   Studio Entertainment[NI 1]       26 non-null     float64\n",
      " 2   Disney Consumer Products[NI 2]   26 non-null     float64\n",
      " 3   Disney Interactive[NI 3][Rev 1]  26 non-null     float64\n",
      " 4   Walt Disney Parks and Resorts    26 non-null     float64\n",
      " 5   Disney Media Networks            26 non-null     float64\n",
      " 6   Total                            26 non-null     int64  \n",
      "dtypes: float64(5), int64(2)\n",
      "memory usage: 1.6 KB\n"
     ]
    }
   ],
   "source": [
    "revenue.info()"
   ]
  },
  {
   "cell_type": "markdown",
   "id": "9eaf023b-9d1d-4d22-85dd-7efb0781806b",
   "metadata": {},
   "source": [
    "* Saving the dataset as csv file."
   ]
  },
  {
   "cell_type": "code",
   "execution_count": 20,
   "id": "0d93fff9-26aa-451b-8807-0980306428d7",
   "metadata": {},
   "outputs": [],
   "source": [
    "revenue.to_csv('revenue.csv')"
   ]
  },
  {
   "cell_type": "markdown",
   "id": "c836d8db-7571-487a-ae90-d4c3773b2f0d",
   "metadata": {},
   "source": [
    "******"
   ]
  },
  {
   "cell_type": "markdown",
   "id": "00dc6bf8-fb72-4125-8444-043efc72a604",
   "metadata": {},
   "source": [
    "### **3- Disney Characters** "
   ]
  },
  {
   "cell_type": "markdown",
   "id": "e82083af-2953-4665-8e9a-5c53d38225b2",
   "metadata": {},
   "source": [
    "* ####  **Loading and Exploring the Dataset**"
   ]
  },
  {
   "cell_type": "code",
   "execution_count": 21,
   "id": "92af7d55-b2f8-44c1-a060-c871288b021e",
   "metadata": {},
   "outputs": [
    {
     "data": {
      "text/html": [
       "<div>\n",
       "<style scoped>\n",
       "    .dataframe tbody tr th:only-of-type {\n",
       "        vertical-align: middle;\n",
       "    }\n",
       "\n",
       "    .dataframe tbody tr th {\n",
       "        vertical-align: top;\n",
       "    }\n",
       "\n",
       "    .dataframe thead th {\n",
       "        text-align: right;\n",
       "    }\n",
       "</style>\n",
       "<table border=\"1\" class=\"dataframe\">\n",
       "  <thead>\n",
       "    <tr style=\"text-align: right;\">\n",
       "      <th></th>\n",
       "      <th>movie_title</th>\n",
       "      <th>release_date</th>\n",
       "      <th>hero</th>\n",
       "      <th>villian</th>\n",
       "      <th>song</th>\n",
       "    </tr>\n",
       "  </thead>\n",
       "  <tbody>\n",
       "    <tr>\n",
       "      <th>0</th>\n",
       "      <td>\\nSnow White and the Seven Dwarfs</td>\n",
       "      <td>December 21, 1937</td>\n",
       "      <td>Snow White</td>\n",
       "      <td>Evil Queen</td>\n",
       "      <td>Some Day My Prince Will Come</td>\n",
       "    </tr>\n",
       "    <tr>\n",
       "      <th>1</th>\n",
       "      <td>\\nPinocchio</td>\n",
       "      <td>February 7, 1940</td>\n",
       "      <td>Pinocchio</td>\n",
       "      <td>Stromboli</td>\n",
       "      <td>When You Wish upon a Star</td>\n",
       "    </tr>\n",
       "    <tr>\n",
       "      <th>2</th>\n",
       "      <td>\\nFantasia</td>\n",
       "      <td>November 13, 1940</td>\n",
       "      <td>NaN</td>\n",
       "      <td>Chernabog</td>\n",
       "      <td>NaN</td>\n",
       "    </tr>\n",
       "    <tr>\n",
       "      <th>3</th>\n",
       "      <td>Dumbo</td>\n",
       "      <td>October 23, 1941</td>\n",
       "      <td>Dumbo</td>\n",
       "      <td>Ringmaster</td>\n",
       "      <td>Baby Mine</td>\n",
       "    </tr>\n",
       "    <tr>\n",
       "      <th>4</th>\n",
       "      <td>\\nBambi</td>\n",
       "      <td>August 13, 1942</td>\n",
       "      <td>Bambi</td>\n",
       "      <td>Hunter</td>\n",
       "      <td>Love Is a Song</td>\n",
       "    </tr>\n",
       "  </tbody>\n",
       "</table>\n",
       "</div>"
      ],
      "text/plain": [
       "                         movie_title       release_date        hero  \\\n",
       "0  \\nSnow White and the Seven Dwarfs  December 21, 1937  Snow White   \n",
       "1                        \\nPinocchio   February 7, 1940   Pinocchio   \n",
       "2                         \\nFantasia  November 13, 1940         NaN   \n",
       "3                              Dumbo   October 23, 1941       Dumbo   \n",
       "4                            \\nBambi    August 13, 1942       Bambi   \n",
       "\n",
       "      villian                          song  \n",
       "0  Evil Queen  Some Day My Prince Will Come  \n",
       "1   Stromboli     When You Wish upon a Star  \n",
       "2   Chernabog                           NaN  \n",
       "3  Ringmaster                     Baby Mine  \n",
       "4      Hunter                Love Is a Song  "
      ]
     },
     "execution_count": 21,
     "metadata": {},
     "output_type": "execute_result"
    }
   ],
   "source": [
    "characters = pd.read_csv('disney-characters.csv')\n",
    "characters.head()"
   ]
  },
  {
   "cell_type": "code",
   "execution_count": 22,
   "id": "07fc34b8-839a-444e-92c9-f46a13126528",
   "metadata": {},
   "outputs": [
    {
     "name": "stdout",
     "output_type": "stream",
     "text": [
      "<class 'pandas.core.frame.DataFrame'>\n",
      "RangeIndex: 56 entries, 0 to 55\n",
      "Data columns (total 5 columns):\n",
      " #   Column        Non-Null Count  Dtype \n",
      "---  ------        --------------  ----- \n",
      " 0   movie_title   56 non-null     object\n",
      " 1   release_date  56 non-null     object\n",
      " 2   hero          52 non-null     object\n",
      " 3   villian       46 non-null     object\n",
      " 4   song          47 non-null     object\n",
      "dtypes: object(5)\n",
      "memory usage: 2.3+ KB\n"
     ]
    }
   ],
   "source": [
    "characters.info()"
   ]
  },
  {
   "cell_type": "code",
   "execution_count": 23,
   "id": "ecce56b9-31e0-4484-aa4f-f4f7007e3710",
   "metadata": {},
   "outputs": [
    {
     "data": {
      "text/plain": [
       "0"
      ]
     },
     "execution_count": 23,
     "metadata": {},
     "output_type": "execute_result"
    }
   ],
   "source": [
    "characters.duplicated().sum()"
   ]
  },
  {
   "cell_type": "markdown",
   "id": "ddbe8922-ee73-4c3a-af9e-08e1c13c5c77",
   "metadata": {},
   "source": [
    "#### Data Cleaning\n",
    "* We will remove `\\n character` from `movie_title` and `Song` columns.\n",
    "* We will convert `release_date` into datetime data type.\n",
    "* We will replace `NaN` values with `Not Available`."
   ]
  },
  {
   "cell_type": "code",
   "execution_count": 24,
   "id": "a5e39978-bb41-4cc1-bfdc-c1e6773ae8d8",
   "metadata": {},
   "outputs": [],
   "source": [
    "# Removing special character from movie_title column\n",
    "def spec_removal(x):\n",
    "    if isinstance(x,str):\n",
    "        return x.replace('\\n','')\n",
    "    return x\n",
    "    \n"
   ]
  },
  {
   "cell_type": "code",
   "execution_count": 25,
   "id": "9cfa9939-b6c4-4ba8-8761-025edc9a70a3",
   "metadata": {},
   "outputs": [],
   "source": [
    "characters['movie_title'] = characters['movie_title'].apply(spec_removal)\n",
    "characters['song'] = characters['song'].apply(spec_removal)"
   ]
  },
  {
   "cell_type": "code",
   "execution_count": 26,
   "id": "a83dac0f-0b3c-4b74-84fb-66f7d2e7c02c",
   "metadata": {},
   "outputs": [
    {
     "data": {
      "text/html": [
       "<div>\n",
       "<style scoped>\n",
       "    .dataframe tbody tr th:only-of-type {\n",
       "        vertical-align: middle;\n",
       "    }\n",
       "\n",
       "    .dataframe tbody tr th {\n",
       "        vertical-align: top;\n",
       "    }\n",
       "\n",
       "    .dataframe thead th {\n",
       "        text-align: right;\n",
       "    }\n",
       "</style>\n",
       "<table border=\"1\" class=\"dataframe\">\n",
       "  <thead>\n",
       "    <tr style=\"text-align: right;\">\n",
       "      <th></th>\n",
       "      <th>movie_title</th>\n",
       "      <th>release_date</th>\n",
       "      <th>hero</th>\n",
       "      <th>villian</th>\n",
       "      <th>song</th>\n",
       "    </tr>\n",
       "  </thead>\n",
       "  <tbody>\n",
       "    <tr>\n",
       "      <th>0</th>\n",
       "      <td>Snow White and the Seven Dwarfs</td>\n",
       "      <td>December 21, 1937</td>\n",
       "      <td>Snow White</td>\n",
       "      <td>Evil Queen</td>\n",
       "      <td>Some Day My Prince Will Come</td>\n",
       "    </tr>\n",
       "    <tr>\n",
       "      <th>1</th>\n",
       "      <td>Pinocchio</td>\n",
       "      <td>February 7, 1940</td>\n",
       "      <td>Pinocchio</td>\n",
       "      <td>Stromboli</td>\n",
       "      <td>When You Wish upon a Star</td>\n",
       "    </tr>\n",
       "    <tr>\n",
       "      <th>2</th>\n",
       "      <td>Fantasia</td>\n",
       "      <td>November 13, 1940</td>\n",
       "      <td>NaN</td>\n",
       "      <td>Chernabog</td>\n",
       "      <td>NaN</td>\n",
       "    </tr>\n",
       "    <tr>\n",
       "      <th>3</th>\n",
       "      <td>Dumbo</td>\n",
       "      <td>October 23, 1941</td>\n",
       "      <td>Dumbo</td>\n",
       "      <td>Ringmaster</td>\n",
       "      <td>Baby Mine</td>\n",
       "    </tr>\n",
       "    <tr>\n",
       "      <th>4</th>\n",
       "      <td>Bambi</td>\n",
       "      <td>August 13, 1942</td>\n",
       "      <td>Bambi</td>\n",
       "      <td>Hunter</td>\n",
       "      <td>Love Is a Song</td>\n",
       "    </tr>\n",
       "  </tbody>\n",
       "</table>\n",
       "</div>"
      ],
      "text/plain": [
       "                       movie_title       release_date        hero     villian  \\\n",
       "0  Snow White and the Seven Dwarfs  December 21, 1937  Snow White  Evil Queen   \n",
       "1                        Pinocchio   February 7, 1940   Pinocchio   Stromboli   \n",
       "2                         Fantasia  November 13, 1940         NaN   Chernabog   \n",
       "3                            Dumbo   October 23, 1941       Dumbo  Ringmaster   \n",
       "4                            Bambi    August 13, 1942       Bambi      Hunter   \n",
       "\n",
       "                           song  \n",
       "0  Some Day My Prince Will Come  \n",
       "1     When You Wish upon a Star  \n",
       "2                           NaN  \n",
       "3                     Baby Mine  \n",
       "4                Love Is a Song  "
      ]
     },
     "execution_count": 26,
     "metadata": {},
     "output_type": "execute_result"
    }
   ],
   "source": [
    "characters.head()"
   ]
  },
  {
   "cell_type": "code",
   "execution_count": 27,
   "id": "2af76a88-7040-460c-9de0-40978c5c84b0",
   "metadata": {},
   "outputs": [],
   "source": [
    "# Convert \"release_date\" to datetime format\n",
    "characters['release_date'] = pd.to_datetime(characters['release_date'])"
   ]
  },
  {
   "cell_type": "code",
   "execution_count": 28,
   "id": "04c68e6a-599e-4327-a15c-5847632fa219",
   "metadata": {},
   "outputs": [],
   "source": [
    "# Replace \"NaN\" values\n",
    "characters.fillna('Not Available', inplace=True)"
   ]
  },
  {
   "cell_type": "code",
   "execution_count": 29,
   "id": "2d284bb9-728a-4166-856a-c2bd0a505f6d",
   "metadata": {},
   "outputs": [
    {
     "data": {
      "text/html": [
       "<div>\n",
       "<style scoped>\n",
       "    .dataframe tbody tr th:only-of-type {\n",
       "        vertical-align: middle;\n",
       "    }\n",
       "\n",
       "    .dataframe tbody tr th {\n",
       "        vertical-align: top;\n",
       "    }\n",
       "\n",
       "    .dataframe thead th {\n",
       "        text-align: right;\n",
       "    }\n",
       "</style>\n",
       "<table border=\"1\" class=\"dataframe\">\n",
       "  <thead>\n",
       "    <tr style=\"text-align: right;\">\n",
       "      <th></th>\n",
       "      <th>movie_title</th>\n",
       "      <th>release_date</th>\n",
       "      <th>hero</th>\n",
       "      <th>villian</th>\n",
       "      <th>song</th>\n",
       "    </tr>\n",
       "  </thead>\n",
       "  <tbody>\n",
       "    <tr>\n",
       "      <th>0</th>\n",
       "      <td>Snow White and the Seven Dwarfs</td>\n",
       "      <td>1937-12-21</td>\n",
       "      <td>Snow White</td>\n",
       "      <td>Evil Queen</td>\n",
       "      <td>Some Day My Prince Will Come</td>\n",
       "    </tr>\n",
       "    <tr>\n",
       "      <th>1</th>\n",
       "      <td>Pinocchio</td>\n",
       "      <td>1940-02-07</td>\n",
       "      <td>Pinocchio</td>\n",
       "      <td>Stromboli</td>\n",
       "      <td>When You Wish upon a Star</td>\n",
       "    </tr>\n",
       "    <tr>\n",
       "      <th>2</th>\n",
       "      <td>Fantasia</td>\n",
       "      <td>1940-11-13</td>\n",
       "      <td>Not Available</td>\n",
       "      <td>Chernabog</td>\n",
       "      <td>Not Available</td>\n",
       "    </tr>\n",
       "    <tr>\n",
       "      <th>3</th>\n",
       "      <td>Dumbo</td>\n",
       "      <td>1941-10-23</td>\n",
       "      <td>Dumbo</td>\n",
       "      <td>Ringmaster</td>\n",
       "      <td>Baby Mine</td>\n",
       "    </tr>\n",
       "    <tr>\n",
       "      <th>4</th>\n",
       "      <td>Bambi</td>\n",
       "      <td>1942-08-13</td>\n",
       "      <td>Bambi</td>\n",
       "      <td>Hunter</td>\n",
       "      <td>Love Is a Song</td>\n",
       "    </tr>\n",
       "  </tbody>\n",
       "</table>\n",
       "</div>"
      ],
      "text/plain": [
       "                       movie_title release_date           hero     villian  \\\n",
       "0  Snow White and the Seven Dwarfs   1937-12-21     Snow White  Evil Queen   \n",
       "1                        Pinocchio   1940-02-07      Pinocchio   Stromboli   \n",
       "2                         Fantasia   1940-11-13  Not Available   Chernabog   \n",
       "3                            Dumbo   1941-10-23          Dumbo  Ringmaster   \n",
       "4                            Bambi   1942-08-13          Bambi      Hunter   \n",
       "\n",
       "                           song  \n",
       "0  Some Day My Prince Will Come  \n",
       "1     When You Wish upon a Star  \n",
       "2                 Not Available  \n",
       "3                     Baby Mine  \n",
       "4                Love Is a Song  "
      ]
     },
     "execution_count": 29,
     "metadata": {},
     "output_type": "execute_result"
    }
   ],
   "source": [
    "characters.head()"
   ]
  },
  {
   "cell_type": "code",
   "execution_count": 30,
   "id": "8eddae45-4341-4cb5-a97e-744919de3a0f",
   "metadata": {},
   "outputs": [
    {
     "name": "stdout",
     "output_type": "stream",
     "text": [
      "<class 'pandas.core.frame.DataFrame'>\n",
      "RangeIndex: 56 entries, 0 to 55\n",
      "Data columns (total 5 columns):\n",
      " #   Column        Non-Null Count  Dtype         \n",
      "---  ------        --------------  -----         \n",
      " 0   movie_title   56 non-null     object        \n",
      " 1   release_date  56 non-null     datetime64[ns]\n",
      " 2   hero          56 non-null     object        \n",
      " 3   villian       56 non-null     object        \n",
      " 4   song          56 non-null     object        \n",
      "dtypes: datetime64[ns](1), object(4)\n",
      "memory usage: 2.3+ KB\n"
     ]
    }
   ],
   "source": [
    "characters.info()"
   ]
  },
  {
   "cell_type": "markdown",
   "id": "9578efca-2a8d-42ad-a7b9-9fddefe0c0de",
   "metadata": {},
   "source": [
    "* Save the dataset as csv file."
   ]
  },
  {
   "cell_type": "code",
   "execution_count": 31,
   "id": "1eee2282-4d7c-40b7-b2d7-92d61aace4c2",
   "metadata": {},
   "outputs": [],
   "source": [
    "characters.to_csv('characters.csv')"
   ]
  },
  {
   "cell_type": "markdown",
   "id": "ea43b440-06b8-4e63-a28b-9987eb31a047",
   "metadata": {},
   "source": [
    "*****"
   ]
  },
  {
   "cell_type": "markdown",
   "id": "ae7de603-52be-4e4f-a690-6137f9e26133",
   "metadata": {},
   "source": [
    "### **4- Disney Director**"
   ]
  },
  {
   "cell_type": "markdown",
   "id": "4c8f1396-9d97-4230-864d-d49ac6aacbbb",
   "metadata": {},
   "source": [
    "* ####  **Loading and Exploring the Dataset**"
   ]
  },
  {
   "cell_type": "code",
   "execution_count": 32,
   "id": "2819ea24-2692-4c4e-b3c5-58274ca6d27a",
   "metadata": {},
   "outputs": [
    {
     "data": {
      "text/html": [
       "<div>\n",
       "<style scoped>\n",
       "    .dataframe tbody tr th:only-of-type {\n",
       "        vertical-align: middle;\n",
       "    }\n",
       "\n",
       "    .dataframe tbody tr th {\n",
       "        vertical-align: top;\n",
       "    }\n",
       "\n",
       "    .dataframe thead th {\n",
       "        text-align: right;\n",
       "    }\n",
       "</style>\n",
       "<table border=\"1\" class=\"dataframe\">\n",
       "  <thead>\n",
       "    <tr style=\"text-align: right;\">\n",
       "      <th></th>\n",
       "      <th>name</th>\n",
       "      <th>director</th>\n",
       "    </tr>\n",
       "  </thead>\n",
       "  <tbody>\n",
       "    <tr>\n",
       "      <th>0</th>\n",
       "      <td>Snow White and the Seven Dwarfs</td>\n",
       "      <td>David Hand</td>\n",
       "    </tr>\n",
       "    <tr>\n",
       "      <th>1</th>\n",
       "      <td>Pinocchio</td>\n",
       "      <td>Ben Sharpsteen</td>\n",
       "    </tr>\n",
       "    <tr>\n",
       "      <th>2</th>\n",
       "      <td>Fantasia</td>\n",
       "      <td>full credits</td>\n",
       "    </tr>\n",
       "    <tr>\n",
       "      <th>3</th>\n",
       "      <td>Dumbo</td>\n",
       "      <td>Ben Sharpsteen</td>\n",
       "    </tr>\n",
       "    <tr>\n",
       "      <th>4</th>\n",
       "      <td>Bambi</td>\n",
       "      <td>David Hand</td>\n",
       "    </tr>\n",
       "  </tbody>\n",
       "</table>\n",
       "</div>"
      ],
      "text/plain": [
       "                              name        director\n",
       "0  Snow White and the Seven Dwarfs      David Hand\n",
       "1                        Pinocchio  Ben Sharpsteen\n",
       "2                         Fantasia    full credits\n",
       "3                            Dumbo  Ben Sharpsteen\n",
       "4                            Bambi      David Hand"
      ]
     },
     "execution_count": 32,
     "metadata": {},
     "output_type": "execute_result"
    }
   ],
   "source": [
    "director = pd.read_csv('disney-director.csv')\n",
    "director.head()"
   ]
  },
  {
   "cell_type": "code",
   "execution_count": 33,
   "id": "344ad529-395b-4c58-a384-2759990ffb70",
   "metadata": {},
   "outputs": [
    {
     "name": "stdout",
     "output_type": "stream",
     "text": [
      "<class 'pandas.core.frame.DataFrame'>\n",
      "RangeIndex: 56 entries, 0 to 55\n",
      "Data columns (total 2 columns):\n",
      " #   Column    Non-Null Count  Dtype \n",
      "---  ------    --------------  ----- \n",
      " 0   name      56 non-null     object\n",
      " 1   director  56 non-null     object\n",
      "dtypes: object(2)\n",
      "memory usage: 1.0+ KB\n"
     ]
    }
   ],
   "source": [
    "director.info()"
   ]
  },
  {
   "cell_type": "code",
   "execution_count": 34,
   "id": "37741ed1-fda5-4d9a-b4a8-7dea72c12050",
   "metadata": {},
   "outputs": [
    {
     "data": {
      "text/plain": [
       "0"
      ]
     },
     "execution_count": 34,
     "metadata": {},
     "output_type": "execute_result"
    }
   ],
   "source": [
    "director.duplicated().sum()"
   ]
  },
  {
   "cell_type": "code",
   "execution_count": 35,
   "id": "fd717fe4-b205-4acb-a777-108909c82d4c",
   "metadata": {},
   "outputs": [],
   "source": [
    "# For consistency, we will rename the \"name\" column.\n",
    "director.rename(columns={'name': 'movie_title'}, inplace=True)"
   ]
  },
  {
   "cell_type": "code",
   "execution_count": 36,
   "id": "e61e56d4-17cf-4c80-a627-fe85099c2d70",
   "metadata": {},
   "outputs": [
    {
     "data": {
      "text/html": [
       "<div>\n",
       "<style scoped>\n",
       "    .dataframe tbody tr th:only-of-type {\n",
       "        vertical-align: middle;\n",
       "    }\n",
       "\n",
       "    .dataframe tbody tr th {\n",
       "        vertical-align: top;\n",
       "    }\n",
       "\n",
       "    .dataframe thead th {\n",
       "        text-align: right;\n",
       "    }\n",
       "</style>\n",
       "<table border=\"1\" class=\"dataframe\">\n",
       "  <thead>\n",
       "    <tr style=\"text-align: right;\">\n",
       "      <th></th>\n",
       "      <th>movie_title</th>\n",
       "      <th>director</th>\n",
       "    </tr>\n",
       "  </thead>\n",
       "  <tbody>\n",
       "    <tr>\n",
       "      <th>0</th>\n",
       "      <td>Snow White and the Seven Dwarfs</td>\n",
       "      <td>David Hand</td>\n",
       "    </tr>\n",
       "    <tr>\n",
       "      <th>1</th>\n",
       "      <td>Pinocchio</td>\n",
       "      <td>Ben Sharpsteen</td>\n",
       "    </tr>\n",
       "    <tr>\n",
       "      <th>2</th>\n",
       "      <td>Fantasia</td>\n",
       "      <td>full credits</td>\n",
       "    </tr>\n",
       "    <tr>\n",
       "      <th>3</th>\n",
       "      <td>Dumbo</td>\n",
       "      <td>Ben Sharpsteen</td>\n",
       "    </tr>\n",
       "    <tr>\n",
       "      <th>4</th>\n",
       "      <td>Bambi</td>\n",
       "      <td>David Hand</td>\n",
       "    </tr>\n",
       "  </tbody>\n",
       "</table>\n",
       "</div>"
      ],
      "text/plain": [
       "                       movie_title        director\n",
       "0  Snow White and the Seven Dwarfs      David Hand\n",
       "1                        Pinocchio  Ben Sharpsteen\n",
       "2                         Fantasia    full credits\n",
       "3                            Dumbo  Ben Sharpsteen\n",
       "4                            Bambi      David Hand"
      ]
     },
     "execution_count": 36,
     "metadata": {},
     "output_type": "execute_result"
    }
   ],
   "source": [
    "director.head()"
   ]
  },
  {
   "cell_type": "markdown",
   "id": "b08241ac-93f4-4c13-8383-13f23379ee24",
   "metadata": {},
   "source": [
    "* All set no further work is needed on this dataset.\n",
    "* Saving the dataset as csv file."
   ]
  },
  {
   "cell_type": "code",
   "execution_count": 37,
   "id": "5de2661d-febc-4fa0-89fa-aeb35a32ba2c",
   "metadata": {},
   "outputs": [],
   "source": [
    "director.to_csv('director.csv')"
   ]
  },
  {
   "cell_type": "markdown",
   "id": "92cbe773-506b-4251-89c6-d061fba10e3d",
   "metadata": {},
   "source": [
    "*****"
   ]
  },
  {
   "cell_type": "markdown",
   "id": "81a8a4ad-0c4a-4599-838a-282c1ead3e35",
   "metadata": {},
   "source": [
    "### **5- Voice Actor**"
   ]
  },
  {
   "cell_type": "markdown",
   "id": "8e851f84-5053-4d6f-9de1-5a1f966a003c",
   "metadata": {},
   "source": [
    "* ####  **Loading and Exploring the Dataset**"
   ]
  },
  {
   "cell_type": "code",
   "execution_count": 38,
   "id": "2a8e05c9-84b1-4c84-8104-d0dbbf75d717",
   "metadata": {},
   "outputs": [
    {
     "data": {
      "text/html": [
       "<div>\n",
       "<style scoped>\n",
       "    .dataframe tbody tr th:only-of-type {\n",
       "        vertical-align: middle;\n",
       "    }\n",
       "\n",
       "    .dataframe tbody tr th {\n",
       "        vertical-align: top;\n",
       "    }\n",
       "\n",
       "    .dataframe thead th {\n",
       "        text-align: right;\n",
       "    }\n",
       "</style>\n",
       "<table border=\"1\" class=\"dataframe\">\n",
       "  <thead>\n",
       "    <tr style=\"text-align: right;\">\n",
       "      <th></th>\n",
       "      <th>character</th>\n",
       "      <th>voice-actor</th>\n",
       "      <th>movie</th>\n",
       "    </tr>\n",
       "  </thead>\n",
       "  <tbody>\n",
       "    <tr>\n",
       "      <th>0</th>\n",
       "      <td>Abby Mallard</td>\n",
       "      <td>Joan Cusack</td>\n",
       "      <td>Chicken Little</td>\n",
       "    </tr>\n",
       "    <tr>\n",
       "      <th>1</th>\n",
       "      <td>Abigail Gabble</td>\n",
       "      <td>Monica Evans</td>\n",
       "      <td>The Aristocats</td>\n",
       "    </tr>\n",
       "    <tr>\n",
       "      <th>2</th>\n",
       "      <td>Abis Mal</td>\n",
       "      <td>Jason Alexander</td>\n",
       "      <td>The Return of Jafar</td>\n",
       "    </tr>\n",
       "    <tr>\n",
       "      <th>3</th>\n",
       "      <td>Abu</td>\n",
       "      <td>Frank Welker</td>\n",
       "      <td>Aladdin</td>\n",
       "    </tr>\n",
       "    <tr>\n",
       "      <th>4</th>\n",
       "      <td>Achilles</td>\n",
       "      <td>NaN</td>\n",
       "      <td>The Hunchback of Notre Dame</td>\n",
       "    </tr>\n",
       "  </tbody>\n",
       "</table>\n",
       "</div>"
      ],
      "text/plain": [
       "        character      voice-actor                        movie\n",
       "0    Abby Mallard      Joan Cusack               Chicken Little\n",
       "1  Abigail Gabble     Monica Evans               The Aristocats\n",
       "2        Abis Mal  Jason Alexander          The Return of Jafar\n",
       "3             Abu     Frank Welker                      Aladdin\n",
       "4        Achilles              NaN  The Hunchback of Notre Dame"
      ]
     },
     "execution_count": 38,
     "metadata": {},
     "output_type": "execute_result"
    }
   ],
   "source": [
    "voice = pd.read_csv('disney-voice-actors.csv')\n",
    "voice.head()"
   ]
  },
  {
   "cell_type": "code",
   "execution_count": 39,
   "id": "725f429b-771d-421f-a235-c37fc17b80ed",
   "metadata": {},
   "outputs": [
    {
     "name": "stdout",
     "output_type": "stream",
     "text": [
      "<class 'pandas.core.frame.DataFrame'>\n",
      "RangeIndex: 935 entries, 0 to 934\n",
      "Data columns (total 3 columns):\n",
      " #   Column       Non-Null Count  Dtype \n",
      "---  ------       --------------  ----- \n",
      " 0   character    935 non-null    object\n",
      " 1   voice-actor  882 non-null    object\n",
      " 2   movie        935 non-null    object\n",
      "dtypes: object(3)\n",
      "memory usage: 22.0+ KB\n"
     ]
    }
   ],
   "source": [
    "voice.info()"
   ]
  },
  {
   "cell_type": "code",
   "execution_count": 40,
   "id": "4a750d06-21ec-42c2-974a-2c4b635ef063",
   "metadata": {},
   "outputs": [
    {
     "data": {
      "text/plain": [
       "53"
      ]
     },
     "execution_count": 40,
     "metadata": {},
     "output_type": "execute_result"
    }
   ],
   "source": [
    "voice['voice-actor'].isna().sum()"
   ]
  },
  {
   "cell_type": "code",
   "execution_count": 41,
   "id": "42b1dce6-a6e7-41a7-9a85-45d99761042e",
   "metadata": {},
   "outputs": [
    {
     "data": {
      "text/plain": [
       "0"
      ]
     },
     "execution_count": 41,
     "metadata": {},
     "output_type": "execute_result"
    }
   ],
   "source": [
    "voice.duplicated().sum()"
   ]
  },
  {
   "cell_type": "code",
   "execution_count": 42,
   "id": "ed78b6f9-3837-41c4-8bdf-c01858b150f3",
   "metadata": {},
   "outputs": [
    {
     "data": {
      "text/html": [
       "<div>\n",
       "<style scoped>\n",
       "    .dataframe tbody tr th:only-of-type {\n",
       "        vertical-align: middle;\n",
       "    }\n",
       "\n",
       "    .dataframe tbody tr th {\n",
       "        vertical-align: top;\n",
       "    }\n",
       "\n",
       "    .dataframe thead th {\n",
       "        text-align: right;\n",
       "    }\n",
       "</style>\n",
       "<table border=\"1\" class=\"dataframe\">\n",
       "  <thead>\n",
       "    <tr style=\"text-align: right;\">\n",
       "      <th></th>\n",
       "      <th>character</th>\n",
       "      <th>voice-actor</th>\n",
       "      <th>movie</th>\n",
       "    </tr>\n",
       "  </thead>\n",
       "  <tbody>\n",
       "    <tr>\n",
       "      <th>0</th>\n",
       "      <td>Abby Mallard</td>\n",
       "      <td>Joan Cusack</td>\n",
       "      <td>Chicken Little</td>\n",
       "    </tr>\n",
       "    <tr>\n",
       "      <th>1</th>\n",
       "      <td>Abigail Gabble</td>\n",
       "      <td>Monica Evans</td>\n",
       "      <td>The Aristocats</td>\n",
       "    </tr>\n",
       "    <tr>\n",
       "      <th>2</th>\n",
       "      <td>Abis Mal</td>\n",
       "      <td>Jason Alexander</td>\n",
       "      <td>The Return of Jafar</td>\n",
       "    </tr>\n",
       "    <tr>\n",
       "      <th>3</th>\n",
       "      <td>Abu</td>\n",
       "      <td>Frank Welker</td>\n",
       "      <td>Aladdin</td>\n",
       "    </tr>\n",
       "    <tr>\n",
       "      <th>4</th>\n",
       "      <td>Achilles</td>\n",
       "      <td>Unknown</td>\n",
       "      <td>The Hunchback of Notre Dame</td>\n",
       "    </tr>\n",
       "    <tr>\n",
       "      <th>...</th>\n",
       "      <td>...</td>\n",
       "      <td>...</td>\n",
       "      <td>...</td>\n",
       "    </tr>\n",
       "    <tr>\n",
       "      <th>930</th>\n",
       "      <td>Zeus</td>\n",
       "      <td>Rip Torn</td>\n",
       "      <td>Hercules</td>\n",
       "    </tr>\n",
       "    <tr>\n",
       "      <th>931</th>\n",
       "      <td>Ziggy the Vulture</td>\n",
       "      <td>Digby Wolfe</td>\n",
       "      <td>The Jungle Book</td>\n",
       "    </tr>\n",
       "    <tr>\n",
       "      <th>932</th>\n",
       "      <td>Zini</td>\n",
       "      <td>Max Casella</td>\n",
       "      <td>Dinosaur</td>\n",
       "    </tr>\n",
       "    <tr>\n",
       "      <th>933</th>\n",
       "      <td>Zipper</td>\n",
       "      <td>Corey Burton</td>\n",
       "      <td>Chip 'n Dale Rescue Rangers</td>\n",
       "    </tr>\n",
       "    <tr>\n",
       "      <th>934</th>\n",
       "      <td>Zira</td>\n",
       "      <td>Suzanne Pleshette</td>\n",
       "      <td>The Lion King II: Simba's Pride</td>\n",
       "    </tr>\n",
       "  </tbody>\n",
       "</table>\n",
       "<p>935 rows × 3 columns</p>\n",
       "</div>"
      ],
      "text/plain": [
       "             character        voice-actor                            movie\n",
       "0         Abby Mallard        Joan Cusack                   Chicken Little\n",
       "1       Abigail Gabble       Monica Evans                   The Aristocats\n",
       "2             Abis Mal    Jason Alexander              The Return of Jafar\n",
       "3                  Abu       Frank Welker                          Aladdin\n",
       "4             Achilles            Unknown      The Hunchback of Notre Dame\n",
       "..                 ...                ...                              ...\n",
       "930               Zeus           Rip Torn                         Hercules\n",
       "931  Ziggy the Vulture        Digby Wolfe                  The Jungle Book\n",
       "932               Zini        Max Casella                         Dinosaur\n",
       "933             Zipper       Corey Burton      Chip 'n Dale Rescue Rangers\n",
       "934               Zira  Suzanne Pleshette  The Lion King II: Simba's Pride\n",
       "\n",
       "[935 rows x 3 columns]"
      ]
     },
     "execution_count": 42,
     "metadata": {},
     "output_type": "execute_result"
    }
   ],
   "source": [
    "# Filling \"NaN\" values with \"Unknown\" instead.\n",
    "voice.fillna('Unknown')"
   ]
  },
  {
   "cell_type": "code",
   "execution_count": 43,
   "id": "07aba66a-c612-4866-b3d9-b53b4fa27d77",
   "metadata": {},
   "outputs": [],
   "source": [
    "# For consistency, we will rename the \"movie\" column.\n",
    "voice.rename(columns={'movie': 'movie_title'}, inplace=True)"
   ]
  },
  {
   "cell_type": "code",
   "execution_count": 44,
   "id": "e1874ca1-d07e-4416-83df-4528799a412b",
   "metadata": {},
   "outputs": [
    {
     "data": {
      "text/html": [
       "<div>\n",
       "<style scoped>\n",
       "    .dataframe tbody tr th:only-of-type {\n",
       "        vertical-align: middle;\n",
       "    }\n",
       "\n",
       "    .dataframe tbody tr th {\n",
       "        vertical-align: top;\n",
       "    }\n",
       "\n",
       "    .dataframe thead th {\n",
       "        text-align: right;\n",
       "    }\n",
       "</style>\n",
       "<table border=\"1\" class=\"dataframe\">\n",
       "  <thead>\n",
       "    <tr style=\"text-align: right;\">\n",
       "      <th></th>\n",
       "      <th>character</th>\n",
       "      <th>voice-actor</th>\n",
       "      <th>movie_title</th>\n",
       "    </tr>\n",
       "  </thead>\n",
       "  <tbody>\n",
       "    <tr>\n",
       "      <th>0</th>\n",
       "      <td>Abby Mallard</td>\n",
       "      <td>Joan Cusack</td>\n",
       "      <td>Chicken Little</td>\n",
       "    </tr>\n",
       "    <tr>\n",
       "      <th>1</th>\n",
       "      <td>Abigail Gabble</td>\n",
       "      <td>Monica Evans</td>\n",
       "      <td>The Aristocats</td>\n",
       "    </tr>\n",
       "    <tr>\n",
       "      <th>2</th>\n",
       "      <td>Abis Mal</td>\n",
       "      <td>Jason Alexander</td>\n",
       "      <td>The Return of Jafar</td>\n",
       "    </tr>\n",
       "    <tr>\n",
       "      <th>3</th>\n",
       "      <td>Abu</td>\n",
       "      <td>Frank Welker</td>\n",
       "      <td>Aladdin</td>\n",
       "    </tr>\n",
       "    <tr>\n",
       "      <th>4</th>\n",
       "      <td>Achilles</td>\n",
       "      <td>NaN</td>\n",
       "      <td>The Hunchback of Notre Dame</td>\n",
       "    </tr>\n",
       "  </tbody>\n",
       "</table>\n",
       "</div>"
      ],
      "text/plain": [
       "        character      voice-actor                  movie_title\n",
       "0    Abby Mallard      Joan Cusack               Chicken Little\n",
       "1  Abigail Gabble     Monica Evans               The Aristocats\n",
       "2        Abis Mal  Jason Alexander          The Return of Jafar\n",
       "3             Abu     Frank Welker                      Aladdin\n",
       "4        Achilles              NaN  The Hunchback of Notre Dame"
      ]
     },
     "execution_count": 44,
     "metadata": {},
     "output_type": "execute_result"
    }
   ],
   "source": [
    "voice.head()"
   ]
  },
  {
   "cell_type": "markdown",
   "id": "5ec9598f-b1ed-42fe-8579-697f0a8548dc",
   "metadata": {},
   "source": [
    "* Saving the dataset as csv file."
   ]
  },
  {
   "cell_type": "code",
   "execution_count": 45,
   "id": "84fbc134-ea19-4730-b226-9560719a2f72",
   "metadata": {},
   "outputs": [],
   "source": [
    "voice.to_csv('voice.csv')"
   ]
  },
  {
   "cell_type": "markdown",
   "id": "4ad82411-8ace-4b2f-b633-65b9522df84f",
   "metadata": {},
   "source": [
    "***"
   ]
  },
  {
   "cell_type": "markdown",
   "id": "74a80ff4-09c7-4bec-aec4-1e2e51b262a6",
   "metadata": {},
   "source": [
    "* ## **Data Analysis**\n",
    "  "
   ]
  },
  {
   "cell_type": "markdown",
   "id": "f6954106-4fbe-42bb-be4d-d22092725496",
   "metadata": {},
   "source": [
    "  For our Analysis we will answer the following Questions:\n",
    "* Q1: Is there a significant relationship between gross and movie ratings?\n",
    "* Q2: How has this \n",
    "changed through the decades\n",
    "* Q3: Which hero characters generate the highest box office revenues?\n",
    "* Q4: Q4: Which genre is responsible for the highest revenue?\n",
    "  \n",
    "   "
   ]
  },
  {
   "cell_type": "markdown",
   "id": "6c8255ef-9e68-42e1-a5bf-e6247c5a4786",
   "metadata": {},
   "source": [
    "****"
   ]
  },
  {
   "cell_type": "markdown",
   "id": "e2ca2cf4-de6b-43af-b44b-ea898a40806b",
   "metadata": {},
   "source": [
    "### Q1:  Is there a significant relationship between gross and movie ratings?"
   ]
  },
  {
   "cell_type": "code",
   "execution_count": 46,
   "id": "9f751113-9a1f-4a38-9881-385172abf2b6",
   "metadata": {},
   "outputs": [
    {
     "data": {
      "text/html": [
       "<div>\n",
       "<style scoped>\n",
       "    .dataframe tbody tr th:only-of-type {\n",
       "        vertical-align: middle;\n",
       "    }\n",
       "\n",
       "    .dataframe tbody tr th {\n",
       "        vertical-align: top;\n",
       "    }\n",
       "\n",
       "    .dataframe thead th {\n",
       "        text-align: right;\n",
       "    }\n",
       "</style>\n",
       "<table border=\"1\" class=\"dataframe\">\n",
       "  <thead>\n",
       "    <tr style=\"text-align: right;\">\n",
       "      <th></th>\n",
       "      <th>movie_title</th>\n",
       "      <th>release_date</th>\n",
       "      <th>genre</th>\n",
       "      <th>MPAA_rating</th>\n",
       "      <th>total_gross</th>\n",
       "      <th>inflation_adjusted_gross</th>\n",
       "    </tr>\n",
       "  </thead>\n",
       "  <tbody>\n",
       "    <tr>\n",
       "      <th>0</th>\n",
       "      <td>Snow White and the Seven Dwarfs</td>\n",
       "      <td>1937-12-21</td>\n",
       "      <td>Musical</td>\n",
       "      <td>G</td>\n",
       "      <td>184925485</td>\n",
       "      <td>5228953251</td>\n",
       "    </tr>\n",
       "    <tr>\n",
       "      <th>1</th>\n",
       "      <td>Pinocchio</td>\n",
       "      <td>1940-02-09</td>\n",
       "      <td>Adventure</td>\n",
       "      <td>G</td>\n",
       "      <td>84300000</td>\n",
       "      <td>2188229052</td>\n",
       "    </tr>\n",
       "    <tr>\n",
       "      <th>2</th>\n",
       "      <td>Fantasia</td>\n",
       "      <td>1940-11-13</td>\n",
       "      <td>Musical</td>\n",
       "      <td>G</td>\n",
       "      <td>83320000</td>\n",
       "      <td>2187090808</td>\n",
       "    </tr>\n",
       "    <tr>\n",
       "      <th>3</th>\n",
       "      <td>Song of the South</td>\n",
       "      <td>1946-11-12</td>\n",
       "      <td>Adventure</td>\n",
       "      <td>G</td>\n",
       "      <td>65000000</td>\n",
       "      <td>1078510579</td>\n",
       "    </tr>\n",
       "    <tr>\n",
       "      <th>4</th>\n",
       "      <td>Cinderella</td>\n",
       "      <td>1950-02-15</td>\n",
       "      <td>Drama</td>\n",
       "      <td>G</td>\n",
       "      <td>85000000</td>\n",
       "      <td>920608730</td>\n",
       "    </tr>\n",
       "  </tbody>\n",
       "</table>\n",
       "</div>"
      ],
      "text/plain": [
       "                       movie_title release_date      genre MPAA_rating  \\\n",
       "0  Snow White and the Seven Dwarfs   1937-12-21    Musical           G   \n",
       "1                        Pinocchio   1940-02-09  Adventure           G   \n",
       "2                         Fantasia   1940-11-13    Musical           G   \n",
       "3                Song of the South   1946-11-12  Adventure           G   \n",
       "4                       Cinderella   1950-02-15      Drama           G   \n",
       "\n",
       "   total_gross  inflation_adjusted_gross  \n",
       "0    184925485                5228953251  \n",
       "1     84300000                2188229052  \n",
       "2     83320000                2187090808  \n",
       "3     65000000                1078510579  \n",
       "4     85000000                 920608730  "
      ]
     },
     "execution_count": 46,
     "metadata": {},
     "output_type": "execute_result"
    }
   ],
   "source": [
    "total_gross.head()"
   ]
  },
  {
   "cell_type": "code",
   "execution_count": 47,
   "id": "68516565-2fbe-4857-b584-8c50ab95bcd3",
   "metadata": {},
   "outputs": [
    {
     "data": {
      "text/plain": [
       "MPAA_rating\n",
       "PG           187\n",
       "PG-13        145\n",
       "R            102\n",
       "G             86\n",
       "Not Rated     59\n",
       "Name: count, dtype: int64"
      ]
     },
     "execution_count": 47,
     "metadata": {},
     "output_type": "execute_result"
    }
   ],
   "source": [
    "total_gross['MPAA_rating'].value_counts()"
   ]
  },
  {
   "cell_type": "code",
   "execution_count": 48,
   "id": "07ca03b0-6421-4f22-8e63-a5d0f4937144",
   "metadata": {},
   "outputs": [
    {
     "data": {
      "image/png": "[encoded data removed]",
      "text/plain": [
       "<Figure size 1000x500 with 1 Axes>"
      ]
     },
     "metadata": {},
     "output_type": "display_data"
    }
   ],
   "source": [
    "plt.figure(figsize=(10,5))\n",
    "sns.set_style('darkgrid')\n",
    "ax = sns.barplot(x= 'MPAA_rating', y= 'total_gross', data = total_gross, errwidth=0)\n",
    "ax.bar_label(ax.containers[0])\n",
    "plt.title('Gross vs Rating')\n",
    "plt.show()\n",
    "           "
   ]
  },
  {
   "cell_type": "markdown",
   "id": "bc7a4d2b-aa34-457b-8975-03f4d43caa2c",
   "metadata": {},
   "source": [
    "* The most frequent movie rating is `PG RATING` with **187** records, comes next `PG-13 RATTING` with **145** records.\n",
    "* Although it is the least frequent rating with **86** records, `G Rated` movies are responsible for higher `total_gross` than other ratings. "
   ]
  },
  {
   "cell_type": "markdown",
   "id": "82480be9-0797-42c3-b004-520b1db0517b",
   "metadata": {},
   "source": [
    "****"
   ]
  },
  {
   "cell_type": "markdown",
   "id": "60ad6828-fbac-49b4-bf75-1940328f79e8",
   "metadata": {},
   "source": [
    "### Q2: How has this changed through the decades"
   ]
  },
  {
   "cell_type": "markdown",
   "id": "c09d8afd-ba72-46bd-a460-259e7ee1590e",
   "metadata": {},
   "source": [
    "* Adding a new column `Year` to the `Dataframe`"
   ]
  },
  {
   "cell_type": "code",
   "execution_count": 49,
   "id": "8e8ce807-62b6-4334-876c-06eb8f820565",
   "metadata": {},
   "outputs": [],
   "source": [
    "total_gross['Year'] = total_gross['release_date'].dt.year"
   ]
  },
  {
   "cell_type": "code",
   "execution_count": 50,
   "id": "37c5d1dc-f820-4036-a7c3-1e82184b0b59",
   "metadata": {},
   "outputs": [
    {
     "data": {
      "text/html": [
       "<div>\n",
       "<style scoped>\n",
       "    .dataframe tbody tr th:only-of-type {\n",
       "        vertical-align: middle;\n",
       "    }\n",
       "\n",
       "    .dataframe tbody tr th {\n",
       "        vertical-align: top;\n",
       "    }\n",
       "\n",
       "    .dataframe thead th {\n",
       "        text-align: right;\n",
       "    }\n",
       "</style>\n",
       "<table border=\"1\" class=\"dataframe\">\n",
       "  <thead>\n",
       "    <tr style=\"text-align: right;\">\n",
       "      <th></th>\n",
       "      <th>movie_title</th>\n",
       "      <th>release_date</th>\n",
       "      <th>genre</th>\n",
       "      <th>MPAA_rating</th>\n",
       "      <th>total_gross</th>\n",
       "      <th>inflation_adjusted_gross</th>\n",
       "      <th>Year</th>\n",
       "    </tr>\n",
       "  </thead>\n",
       "  <tbody>\n",
       "    <tr>\n",
       "      <th>0</th>\n",
       "      <td>Snow White and the Seven Dwarfs</td>\n",
       "      <td>1937-12-21</td>\n",
       "      <td>Musical</td>\n",
       "      <td>G</td>\n",
       "      <td>184925485</td>\n",
       "      <td>5228953251</td>\n",
       "      <td>1937</td>\n",
       "    </tr>\n",
       "    <tr>\n",
       "      <th>1</th>\n",
       "      <td>Pinocchio</td>\n",
       "      <td>1940-02-09</td>\n",
       "      <td>Adventure</td>\n",
       "      <td>G</td>\n",
       "      <td>84300000</td>\n",
       "      <td>2188229052</td>\n",
       "      <td>1940</td>\n",
       "    </tr>\n",
       "    <tr>\n",
       "      <th>2</th>\n",
       "      <td>Fantasia</td>\n",
       "      <td>1940-11-13</td>\n",
       "      <td>Musical</td>\n",
       "      <td>G</td>\n",
       "      <td>83320000</td>\n",
       "      <td>2187090808</td>\n",
       "      <td>1940</td>\n",
       "    </tr>\n",
       "    <tr>\n",
       "      <th>3</th>\n",
       "      <td>Song of the South</td>\n",
       "      <td>1946-11-12</td>\n",
       "      <td>Adventure</td>\n",
       "      <td>G</td>\n",
       "      <td>65000000</td>\n",
       "      <td>1078510579</td>\n",
       "      <td>1946</td>\n",
       "    </tr>\n",
       "    <tr>\n",
       "      <th>4</th>\n",
       "      <td>Cinderella</td>\n",
       "      <td>1950-02-15</td>\n",
       "      <td>Drama</td>\n",
       "      <td>G</td>\n",
       "      <td>85000000</td>\n",
       "      <td>920608730</td>\n",
       "      <td>1950</td>\n",
       "    </tr>\n",
       "  </tbody>\n",
       "</table>\n",
       "</div>"
      ],
      "text/plain": [
       "                       movie_title release_date      genre MPAA_rating  \\\n",
       "0  Snow White and the Seven Dwarfs   1937-12-21    Musical           G   \n",
       "1                        Pinocchio   1940-02-09  Adventure           G   \n",
       "2                         Fantasia   1940-11-13    Musical           G   \n",
       "3                Song of the South   1946-11-12  Adventure           G   \n",
       "4                       Cinderella   1950-02-15      Drama           G   \n",
       "\n",
       "   total_gross  inflation_adjusted_gross  Year  \n",
       "0    184925485                5228953251  1937  \n",
       "1     84300000                2188229052  1940  \n",
       "2     83320000                2187090808  1940  \n",
       "3     65000000                1078510579  1946  \n",
       "4     85000000                 920608730  1950  "
      ]
     },
     "execution_count": 50,
     "metadata": {},
     "output_type": "execute_result"
    }
   ],
   "source": [
    "total_gross.head()"
   ]
  },
  {
   "cell_type": "code",
   "execution_count": 51,
   "id": "3a71444f-85c6-4ea9-b104-ce3f35598ac3",
   "metadata": {},
   "outputs": [
    {
     "data": {
      "image/png": "[encoded data removed]",
      "text/plain": [
       "<Figure size 1200x500 with 1 Axes>"
      ]
     },
     "metadata": {},
     "output_type": "display_data"
    }
   ],
   "source": [
    "plt.figure(figsize=(12,5))\n",
    "sns.set_style('darkgrid')\n",
    "ax = sns.lineplot(x= 'Year', y= 'total_gross', hue='MPAA_rating', data = total_gross, ci=None)\n",
    "plt.title('Gross over the Years')\n",
    "plt.legend( loc='upper left')\n",
    "plt.show()"
   ]
  },
  {
   "cell_type": "markdown",
   "id": "7efc09e7-8ad3-48ff-9688-52086eb874e7",
   "metadata": {},
   "source": [
    "* During the early ninties `G Rated` movies were the prominent genre in terms of `total_gross`.\n",
    "* From 2000 to 2010 it was close between `G movies` `PG movies` `PG-13 movies` in terms of `total_revenue`.\n",
    "* After 2010 `PG-13 movies` were significatly higher in `total_gross` than any other genre."
   ]
  },
  {
   "cell_type": "markdown",
   "id": "7df989cc-71e6-488b-bc90-5c4834912fd3",
   "metadata": {},
   "source": [
    "****"
   ]
  },
  {
   "cell_type": "markdown",
   "id": "8fae6df6-d3be-4b6e-90d7-61744ecbdc9e",
   "metadata": {},
   "source": [
    "### Q3: Which hero characters generate the highest box office revenues?"
   ]
  },
  {
   "cell_type": "code",
   "execution_count": 52,
   "id": "0f39280e-4754-435e-beb2-28498b6de3c7",
   "metadata": {},
   "outputs": [],
   "source": [
    "# We will merge the two concerned tables \"total_gross\" and \"Characters\" into one table called \"Total_movies\"\n",
    "\n",
    "total_movies = pd.merge(total_gross, characters, on='movie_title', how='left')"
   ]
  },
  {
   "cell_type": "code",
   "execution_count": 53,
   "id": "5069b9ef-2bc0-4636-bd64-ef1cdec2225b",
   "metadata": {},
   "outputs": [
    {
     "data": {
      "text/html": [
       "<div>\n",
       "<style scoped>\n",
       "    .dataframe tbody tr th:only-of-type {\n",
       "        vertical-align: middle;\n",
       "    }\n",
       "\n",
       "    .dataframe tbody tr th {\n",
       "        vertical-align: top;\n",
       "    }\n",
       "\n",
       "    .dataframe thead th {\n",
       "        text-align: right;\n",
       "    }\n",
       "</style>\n",
       "<table border=\"1\" class=\"dataframe\">\n",
       "  <thead>\n",
       "    <tr style=\"text-align: right;\">\n",
       "      <th></th>\n",
       "      <th>movie_title</th>\n",
       "      <th>release_date_x</th>\n",
       "      <th>genre</th>\n",
       "      <th>MPAA_rating</th>\n",
       "      <th>total_gross</th>\n",
       "      <th>inflation_adjusted_gross</th>\n",
       "      <th>Year</th>\n",
       "      <th>release_date_y</th>\n",
       "      <th>hero</th>\n",
       "      <th>villian</th>\n",
       "      <th>song</th>\n",
       "    </tr>\n",
       "  </thead>\n",
       "  <tbody>\n",
       "    <tr>\n",
       "      <th>0</th>\n",
       "      <td>Snow White and the Seven Dwarfs</td>\n",
       "      <td>1937-12-21</td>\n",
       "      <td>Musical</td>\n",
       "      <td>G</td>\n",
       "      <td>184925485</td>\n",
       "      <td>5228953251</td>\n",
       "      <td>1937</td>\n",
       "      <td>1937-12-21</td>\n",
       "      <td>Snow White</td>\n",
       "      <td>Evil Queen</td>\n",
       "      <td>Some Day My Prince Will Come</td>\n",
       "    </tr>\n",
       "    <tr>\n",
       "      <th>1</th>\n",
       "      <td>Pinocchio</td>\n",
       "      <td>1940-02-09</td>\n",
       "      <td>Adventure</td>\n",
       "      <td>G</td>\n",
       "      <td>84300000</td>\n",
       "      <td>2188229052</td>\n",
       "      <td>1940</td>\n",
       "      <td>1940-02-07</td>\n",
       "      <td>Pinocchio</td>\n",
       "      <td>Stromboli</td>\n",
       "      <td>When You Wish upon a Star</td>\n",
       "    </tr>\n",
       "    <tr>\n",
       "      <th>2</th>\n",
       "      <td>Fantasia</td>\n",
       "      <td>1940-11-13</td>\n",
       "      <td>Musical</td>\n",
       "      <td>G</td>\n",
       "      <td>83320000</td>\n",
       "      <td>2187090808</td>\n",
       "      <td>1940</td>\n",
       "      <td>1940-11-13</td>\n",
       "      <td>Not Available</td>\n",
       "      <td>Chernabog</td>\n",
       "      <td>Not Available</td>\n",
       "    </tr>\n",
       "    <tr>\n",
       "      <th>3</th>\n",
       "      <td>Song of the South</td>\n",
       "      <td>1946-11-12</td>\n",
       "      <td>Adventure</td>\n",
       "      <td>G</td>\n",
       "      <td>65000000</td>\n",
       "      <td>1078510579</td>\n",
       "      <td>1946</td>\n",
       "      <td>NaT</td>\n",
       "      <td>NaN</td>\n",
       "      <td>NaN</td>\n",
       "      <td>NaN</td>\n",
       "    </tr>\n",
       "    <tr>\n",
       "      <th>4</th>\n",
       "      <td>Cinderella</td>\n",
       "      <td>1950-02-15</td>\n",
       "      <td>Drama</td>\n",
       "      <td>G</td>\n",
       "      <td>85000000</td>\n",
       "      <td>920608730</td>\n",
       "      <td>1950</td>\n",
       "      <td>1950-02-15</td>\n",
       "      <td>Cinderella</td>\n",
       "      <td>Lady Tremaine</td>\n",
       "      <td>Bibbidi-Bobbidi-Boo</td>\n",
       "    </tr>\n",
       "  </tbody>\n",
       "</table>\n",
       "</div>"
      ],
      "text/plain": [
       "                       movie_title release_date_x      genre MPAA_rating  \\\n",
       "0  Snow White and the Seven Dwarfs     1937-12-21    Musical           G   \n",
       "1                        Pinocchio     1940-02-09  Adventure           G   \n",
       "2                         Fantasia     1940-11-13    Musical           G   \n",
       "3                Song of the South     1946-11-12  Adventure           G   \n",
       "4                       Cinderella     1950-02-15      Drama           G   \n",
       "\n",
       "   total_gross  inflation_adjusted_gross  Year release_date_y           hero  \\\n",
       "0    184925485                5228953251  1937     1937-12-21     Snow White   \n",
       "1     84300000                2188229052  1940     1940-02-07      Pinocchio   \n",
       "2     83320000                2187090808  1940     1940-11-13  Not Available   \n",
       "3     65000000                1078510579  1946            NaT            NaN   \n",
       "4     85000000                 920608730  1950     1950-02-15     Cinderella   \n",
       "\n",
       "         villian                          song  \n",
       "0     Evil Queen  Some Day My Prince Will Come  \n",
       "1      Stromboli     When You Wish upon a Star  \n",
       "2      Chernabog                 Not Available  \n",
       "3            NaN                           NaN  \n",
       "4  Lady Tremaine           Bibbidi-Bobbidi-Boo  "
      ]
     },
     "execution_count": 53,
     "metadata": {},
     "output_type": "execute_result"
    }
   ],
   "source": [
    "total_movies.head()"
   ]
  },
  {
   "cell_type": "code",
   "execution_count": 54,
   "id": "48bba464-801a-4dd6-b169-dcf064bf661c",
   "metadata": {},
   "outputs": [],
   "source": [
    "# Dropping duplicated column \"release_date\" and rename it to its original.\n",
    "\n",
    "total_movies.drop(columns='release_date_y', inplace=True)\n",
    "total_movies.rename(columns={'release_date_x':'release_date'},inplace=True )"
   ]
  },
  {
   "cell_type": "code",
   "execution_count": 55,
   "id": "2f7c6117-9a82-4c18-9dcb-ea40f50611e0",
   "metadata": {},
   "outputs": [
    {
     "data": {
      "text/html": [
       "<div>\n",
       "<style scoped>\n",
       "    .dataframe tbody tr th:only-of-type {\n",
       "        vertical-align: middle;\n",
       "    }\n",
       "\n",
       "    .dataframe tbody tr th {\n",
       "        vertical-align: top;\n",
       "    }\n",
       "\n",
       "    .dataframe thead th {\n",
       "        text-align: right;\n",
       "    }\n",
       "</style>\n",
       "<table border=\"1\" class=\"dataframe\">\n",
       "  <thead>\n",
       "    <tr style=\"text-align: right;\">\n",
       "      <th></th>\n",
       "      <th>movie_title</th>\n",
       "      <th>release_date</th>\n",
       "      <th>genre</th>\n",
       "      <th>MPAA_rating</th>\n",
       "      <th>total_gross</th>\n",
       "      <th>inflation_adjusted_gross</th>\n",
       "      <th>Year</th>\n",
       "      <th>hero</th>\n",
       "      <th>villian</th>\n",
       "      <th>song</th>\n",
       "    </tr>\n",
       "  </thead>\n",
       "  <tbody>\n",
       "    <tr>\n",
       "      <th>0</th>\n",
       "      <td>Star Wars Ep. VII: The Force Awakens</td>\n",
       "      <td>2015-12-18</td>\n",
       "      <td>Adventure</td>\n",
       "      <td>PG-13</td>\n",
       "      <td>936662225</td>\n",
       "      <td>936662225</td>\n",
       "      <td>2015</td>\n",
       "      <td>NaN</td>\n",
       "      <td>NaN</td>\n",
       "      <td>NaN</td>\n",
       "    </tr>\n",
       "    <tr>\n",
       "      <th>1</th>\n",
       "      <td>The Avengers</td>\n",
       "      <td>2012-05-04</td>\n",
       "      <td>Action</td>\n",
       "      <td>PG-13</td>\n",
       "      <td>623279547</td>\n",
       "      <td>660081224</td>\n",
       "      <td>2012</td>\n",
       "      <td>NaN</td>\n",
       "      <td>NaN</td>\n",
       "      <td>NaN</td>\n",
       "    </tr>\n",
       "    <tr>\n",
       "      <th>2</th>\n",
       "      <td>Rogue One: A Star Wars Story</td>\n",
       "      <td>2016-12-16</td>\n",
       "      <td>Adventure</td>\n",
       "      <td>PG-13</td>\n",
       "      <td>529483936</td>\n",
       "      <td>529483936</td>\n",
       "      <td>2016</td>\n",
       "      <td>NaN</td>\n",
       "      <td>NaN</td>\n",
       "      <td>NaN</td>\n",
       "    </tr>\n",
       "    <tr>\n",
       "      <th>3</th>\n",
       "      <td>Finding Dory</td>\n",
       "      <td>2016-06-17</td>\n",
       "      <td>Adventure</td>\n",
       "      <td>PG</td>\n",
       "      <td>486295561</td>\n",
       "      <td>486295561</td>\n",
       "      <td>2016</td>\n",
       "      <td>NaN</td>\n",
       "      <td>NaN</td>\n",
       "      <td>NaN</td>\n",
       "    </tr>\n",
       "    <tr>\n",
       "      <th>4</th>\n",
       "      <td>Avengers: Age of Ultron</td>\n",
       "      <td>2015-05-01</td>\n",
       "      <td>Action</td>\n",
       "      <td>PG-13</td>\n",
       "      <td>459005868</td>\n",
       "      <td>459005868</td>\n",
       "      <td>2015</td>\n",
       "      <td>NaN</td>\n",
       "      <td>NaN</td>\n",
       "      <td>NaN</td>\n",
       "    </tr>\n",
       "    <tr>\n",
       "      <th>5</th>\n",
       "      <td>Pirates of the Caribbean: Dead Man’…</td>\n",
       "      <td>2006-07-07</td>\n",
       "      <td>Adventure</td>\n",
       "      <td>PG-13</td>\n",
       "      <td>423315812</td>\n",
       "      <td>544817142</td>\n",
       "      <td>2006</td>\n",
       "      <td>NaN</td>\n",
       "      <td>NaN</td>\n",
       "      <td>NaN</td>\n",
       "    </tr>\n",
       "    <tr>\n",
       "      <th>6</th>\n",
       "      <td>The Lion King</td>\n",
       "      <td>1994-06-15</td>\n",
       "      <td>Adventure</td>\n",
       "      <td>G</td>\n",
       "      <td>422780140</td>\n",
       "      <td>761640898</td>\n",
       "      <td>1994</td>\n",
       "      <td>Simba</td>\n",
       "      <td>Scar</td>\n",
       "      <td>Circle of Life</td>\n",
       "    </tr>\n",
       "    <tr>\n",
       "      <th>7</th>\n",
       "      <td>Toy Story 3</td>\n",
       "      <td>2010-06-18</td>\n",
       "      <td>Adventure</td>\n",
       "      <td>G</td>\n",
       "      <td>415004880</td>\n",
       "      <td>443408255</td>\n",
       "      <td>2010</td>\n",
       "      <td>NaN</td>\n",
       "      <td>NaN</td>\n",
       "      <td>NaN</td>\n",
       "    </tr>\n",
       "    <tr>\n",
       "      <th>8</th>\n",
       "      <td>Iron Man 3</td>\n",
       "      <td>2013-05-03</td>\n",
       "      <td>Action</td>\n",
       "      <td>PG-13</td>\n",
       "      <td>408992272</td>\n",
       "      <td>424084233</td>\n",
       "      <td>2013</td>\n",
       "      <td>NaN</td>\n",
       "      <td>NaN</td>\n",
       "      <td>NaN</td>\n",
       "    </tr>\n",
       "    <tr>\n",
       "      <th>9</th>\n",
       "      <td>Captain America: Civil War</td>\n",
       "      <td>2016-05-06</td>\n",
       "      <td>Action</td>\n",
       "      <td>PG-13</td>\n",
       "      <td>408084349</td>\n",
       "      <td>408084349</td>\n",
       "      <td>2016</td>\n",
       "      <td>NaN</td>\n",
       "      <td>NaN</td>\n",
       "      <td>NaN</td>\n",
       "    </tr>\n",
       "  </tbody>\n",
       "</table>\n",
       "</div>"
      ],
      "text/plain": [
       "                            movie_title release_date      genre MPAA_rating  \\\n",
       "0  Star Wars Ep. VII: The Force Awakens   2015-12-18  Adventure       PG-13   \n",
       "1                          The Avengers   2012-05-04     Action       PG-13   \n",
       "2          Rogue One: A Star Wars Story   2016-12-16  Adventure       PG-13   \n",
       "3                          Finding Dory   2016-06-17  Adventure          PG   \n",
       "4               Avengers: Age of Ultron   2015-05-01     Action       PG-13   \n",
       "5  Pirates of the Caribbean: Dead Man’…   2006-07-07  Adventure       PG-13   \n",
       "6                         The Lion King   1994-06-15  Adventure           G   \n",
       "7                           Toy Story 3   2010-06-18  Adventure           G   \n",
       "8                            Iron Man 3   2013-05-03     Action       PG-13   \n",
       "9            Captain America: Civil War   2016-05-06     Action       PG-13   \n",
       "\n",
       "   total_gross  inflation_adjusted_gross  Year   hero villian            song  \n",
       "0    936662225                 936662225  2015    NaN     NaN             NaN  \n",
       "1    623279547                 660081224  2012    NaN     NaN             NaN  \n",
       "2    529483936                 529483936  2016    NaN     NaN             NaN  \n",
       "3    486295561                 486295561  2016    NaN     NaN             NaN  \n",
       "4    459005868                 459005868  2015    NaN     NaN             NaN  \n",
       "5    423315812                 544817142  2006    NaN     NaN             NaN  \n",
       "6    422780140                 761640898  1994  Simba    Scar  Circle of Life  \n",
       "7    415004880                 443408255  2010    NaN     NaN             NaN  \n",
       "8    408992272                 424084233  2013    NaN     NaN             NaN  \n",
       "9    408084349                 408084349  2016    NaN     NaN             NaN  "
      ]
     },
     "execution_count": 55,
     "metadata": {},
     "output_type": "execute_result"
    }
   ],
   "source": [
    "# Arranging table in descending order based on total_gross\n",
    "\n",
    "total_movies.sort_values(by='total_gross', ascending=False, ignore_index=True, inplace=True)\n",
    "total_movies.head(10)"
   ]
  },
  {
   "cell_type": "markdown",
   "id": "27cab6d5-ffc8-441a-b882-f75594363250",
   "metadata": {},
   "source": [
    "* The top 10 movies in revenue are not supported by a hero character name except for `The Lion King` movie."
   ]
  },
  {
   "cell_type": "markdown",
   "id": "a4a9f293-9353-4972-b606-8b9c271a584f",
   "metadata": {},
   "source": [
    "****"
   ]
  },
  {
   "cell_type": "markdown",
   "id": "d87642a6-8595-4c2d-b628-e644869e5fb1",
   "metadata": {},
   "source": [
    "### Q4: Which genre is responsible for the highest revenue?"
   ]
  },
  {
   "cell_type": "code",
   "execution_count": 56,
   "id": "27faed9a-f0d3-431d-bd8c-d45e84cda324",
   "metadata": {},
   "outputs": [
    {
     "data": {
      "text/html": [
       "<div>\n",
       "<style scoped>\n",
       "    .dataframe tbody tr th:only-of-type {\n",
       "        vertical-align: middle;\n",
       "    }\n",
       "\n",
       "    .dataframe tbody tr th {\n",
       "        vertical-align: top;\n",
       "    }\n",
       "\n",
       "    .dataframe thead th {\n",
       "        text-align: right;\n",
       "    }\n",
       "</style>\n",
       "<table border=\"1\" class=\"dataframe\">\n",
       "  <thead>\n",
       "    <tr style=\"text-align: right;\">\n",
       "      <th></th>\n",
       "      <th>movie_title</th>\n",
       "      <th>release_date</th>\n",
       "      <th>genre</th>\n",
       "      <th>MPAA_rating</th>\n",
       "      <th>total_gross</th>\n",
       "      <th>inflation_adjusted_gross</th>\n",
       "      <th>Year</th>\n",
       "    </tr>\n",
       "  </thead>\n",
       "  <tbody>\n",
       "    <tr>\n",
       "      <th>0</th>\n",
       "      <td>Snow White and the Seven Dwarfs</td>\n",
       "      <td>1937-12-21</td>\n",
       "      <td>Musical</td>\n",
       "      <td>G</td>\n",
       "      <td>184925485</td>\n",
       "      <td>5228953251</td>\n",
       "      <td>1937</td>\n",
       "    </tr>\n",
       "    <tr>\n",
       "      <th>1</th>\n",
       "      <td>Pinocchio</td>\n",
       "      <td>1940-02-09</td>\n",
       "      <td>Adventure</td>\n",
       "      <td>G</td>\n",
       "      <td>84300000</td>\n",
       "      <td>2188229052</td>\n",
       "      <td>1940</td>\n",
       "    </tr>\n",
       "    <tr>\n",
       "      <th>2</th>\n",
       "      <td>Fantasia</td>\n",
       "      <td>1940-11-13</td>\n",
       "      <td>Musical</td>\n",
       "      <td>G</td>\n",
       "      <td>83320000</td>\n",
       "      <td>2187090808</td>\n",
       "      <td>1940</td>\n",
       "    </tr>\n",
       "    <tr>\n",
       "      <th>3</th>\n",
       "      <td>Song of the South</td>\n",
       "      <td>1946-11-12</td>\n",
       "      <td>Adventure</td>\n",
       "      <td>G</td>\n",
       "      <td>65000000</td>\n",
       "      <td>1078510579</td>\n",
       "      <td>1946</td>\n",
       "    </tr>\n",
       "    <tr>\n",
       "      <th>4</th>\n",
       "      <td>Cinderella</td>\n",
       "      <td>1950-02-15</td>\n",
       "      <td>Drama</td>\n",
       "      <td>G</td>\n",
       "      <td>85000000</td>\n",
       "      <td>920608730</td>\n",
       "      <td>1950</td>\n",
       "    </tr>\n",
       "  </tbody>\n",
       "</table>\n",
       "</div>"
      ],
      "text/plain": [
       "                       movie_title release_date      genre MPAA_rating  \\\n",
       "0  Snow White and the Seven Dwarfs   1937-12-21    Musical           G   \n",
       "1                        Pinocchio   1940-02-09  Adventure           G   \n",
       "2                         Fantasia   1940-11-13    Musical           G   \n",
       "3                Song of the South   1946-11-12  Adventure           G   \n",
       "4                       Cinderella   1950-02-15      Drama           G   \n",
       "\n",
       "   total_gross  inflation_adjusted_gross  Year  \n",
       "0    184925485                5228953251  1937  \n",
       "1     84300000                2188229052  1940  \n",
       "2     83320000                2187090808  1940  \n",
       "3     65000000                1078510579  1946  \n",
       "4     85000000                 920608730  1950  "
      ]
     },
     "execution_count": 56,
     "metadata": {},
     "output_type": "execute_result"
    }
   ],
   "source": [
    "total_gross.head()"
   ]
  },
  {
   "cell_type": "code",
   "execution_count": 57,
   "id": "c6e9f5a8-a063-439f-936f-eebe69a58bb2",
   "metadata": {},
   "outputs": [
    {
     "data": {
      "text/plain": [
       "genre\n",
       "Adventure    16389069453\n",
       "Comedy        8119619678\n",
       "Action        4184563282\n",
       "Name: total_gross, dtype: int64"
      ]
     },
     "execution_count": 57,
     "metadata": {},
     "output_type": "execute_result"
    }
   ],
   "source": [
    "highest_genre = total_gross.groupby('genre')['total_gross'].sum().nlargest(3)\n",
    "highest_genre"
   ]
  },
  {
   "cell_type": "markdown",
   "id": "c798b8de-e93b-49c1-8476-df825d946be9",
   "metadata": {},
   "source": [
    "* `Adventure` genre is responsible for the highest revenue , `Comedy` comes second scoring almost half of its precedent."
   ]
  },
  {
   "cell_type": "markdown",
   "id": "190050f0-722c-4359-a5d6-6cc713751fce",
   "metadata": {},
   "source": [
    "****"
   ]
  }
 ],
 "metadata": {
  "kernelspec": {
   "display_name": "Python 3 (ipykernel)",
   "language": "python",
   "name": "python3"
  },
  "language_info": {
   "codemirror_mode": {
    "name": "ipython",
    "version": 3
   },
   "file_extension": ".py",
   "mimetype": "text/x-python",
   "name": "python",
   "nbconvert_exporter": "python",
   "pygments_lexer": "ipython3",
   "version": "3.11.7"
  }
 },
 "nbformat": 4,
 "nbformat_minor": 5
}
